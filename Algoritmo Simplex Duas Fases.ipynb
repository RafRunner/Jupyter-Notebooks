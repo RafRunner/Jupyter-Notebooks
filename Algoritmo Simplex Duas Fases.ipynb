{
 "cells": [
  {
   "cell_type": "markdown",
   "metadata": {},
   "source": [
    "# Rafael Nunes Santana - 201800215\n",
    "\n",
    "### Atividade 9 (Teste 2) - Pesquisa Operacional I\n",
    "\n",
    "Nessa atividade estaremos implementando o algoritmo Simplex de duas fases com base no código feito para a atividade 8. Esse algoritmo trabalha com variáveis positivas, reais e restrições do tipo igualdade (A(i,:)*x = b(i)), de limite superior (A(i,:)*x <= b(i)) e de limite inferior (A(i,:)*x >= b(i)). Para tal estaremos trabalhando em cima do mesmo código entregue na parte 8.\n",
    "\n",
    "Esse algoritmo se faz necessário quando não podemos assumir a solução inicial como x1 = x2 = ... = xn = 0. Então separamos o algoritmo em duas partes, onde na primeira estaremos apenas encontrando uma solução inicial possível para a segunda parte.\n",
    "\n",
    "## Funcionamento do algoritmo\n",
    "\n",
    "Na primeira fase, nós primeiramente devemos passar o problema para a forma padrão padronizando a função objetico e as restrições montando o tableau e adicinoando variáveis artificiais. Então criamos uma nova função objetivo, que busca minimizar as variáveis artificiais e tentamos resolver esse novo problema. Quando ele estier resolvido, teremos encontrado uma solução possível para o problema original se ele tiver solução (o que é indicado caso o resultado da minimização tenha sido 0). Caso o problema não tenha solução, abortamos o algoritmo.\n",
    "\n",
    "Na segunda fase, pegamos o tableau resultante da primeira fase e focamos em maximizar ou minimizar a função objetico original. Como agora temos uma solução inicial possível, prosseguimos com o algoritmo normalmente e no fim teremos encontrado uma solução ótima."
   ]
  },
  {
   "cell_type": "markdown",
   "metadata": {},
   "source": [
    "## Alterando para minimização\n",
    "\n",
    "Para que o algoritmo minimize a função objetiva, devemos escolher a variável mais positiva (ao invés da mais negativa) ao escolher a variável que entra. Além disso devemos alterar a condição de parada: ao invés de parar quando todos os coeficientes da função objetivo forem maiores ou iguais a zero, paramos quando eles forem todos menores ou iguais a zero."
   ]
  },
  {
   "cell_type": "code",
   "execution_count": 4,
   "metadata": {},
   "outputs": [],
   "source": [
    "import numpy as np"
   ]
  },
  {
   "cell_type": "code",
   "execution_count": 55,
   "metadata": {},
   "outputs": [],
   "source": [
    "# Argumentos da função:\n",
    "# c: vetor com os coeficientes da função objetivo\n",
    "# A: matriz com os coeficientes das restrições\n",
    "# b: vetor com os lados direito das restrições\n",
    "# ctype: o tipo das comparações. S: igualdade, U: A(i,:)*x <= b(i), L: A(i,:)*x >= b(i)\n",
    "# minimizando: Se a função objetiva deve ser minimizada. As restrições passam a ser do tipo A(i,:)*x <= b(i)\n",
    "\n",
    "# OBS.: estamos considerando todas as variáveis >= 0\n",
    "def simplex(c, A, b, ctype, maximizando=True):\n",
    "    n_variaveis = len(c)\n",
    "    n_restricoes = len(A)\n",
    "\n",
    "    # adicionando as variáveis de folga:\n",
    "    n_variaveis_folga = len(list(filter(lambda t: t != 'S', ctype)))\n",
    "    \n",
    "    for i in range(0, len(A)):\n",
    "        for j in range(0, n_variaveis_folga):\n",
    "            A[i].append(0)\n",
    "\n",
    "    count = 0\n",
    "    for i in range(0, len(A)):\n",
    "        if ctype[i] == 'S':\n",
    "            continue\n",
    "\n",
    "        A[i][n_variaveis + count] = 1 if ctype[i] == 'U' else -1\n",
    "        count += 1\n",
    "\n",
    "    # adicionando as variáveis artificiais:\n",
    "    n_variaveis_art = 0\n",
    "\n",
    "    for i in range(0, len(A)):\n",
    "        if (ctype[i] == 'U' and b[i] < 0) or \\\n",
    "        (ctype[i] == 'L' and b[i] > 0) or \\\n",
    "        (ctype[i] == 'S' and b[i] != 0):\n",
    "            n_variaveis_art += 1\n",
    "            for j in range(0, len(A)):\n",
    "                A[j].append(1 if i == j else 0)\n",
    "\n",
    "    n_variaveis = len(A[i])\n",
    "    \n",
    "    # criando e preenchendo a matriz tableau\n",
    "    tableau = np.zeros((n_restricoes + 1, n_variaveis + 1), dtype=float)\n",
    "    tableau[0, -n_variaveis_art - 1:-1] = [-1 for i in range(0, n_variaveis_art)]\n",
    "    tableau[1:, :-1] = A\n",
    "    tableau[1:, -1] = b\n",
    "        \n",
    "    print(tableau)\n",
    "    return\n",
    "    \n",
    "    # Inicialemnte assumimos as variáveis não básicas ótima como [0, 0, ..., 0] e básicas como b\n",
    "    valor_variaveis = np.zeros(len(c), dtype=float)\n",
    "    valor_folga = np.array(b, dtype=float)\n",
    "    \n",
    "    # A condição de parada estão no fim da repetição. Ela muda caso estivermos maximizando ou minimizando\n",
    "    while True:\n",
    "        \n",
    "        # Se estamos maximizando, escolhemos a menor variável e a maior caso estivermos minimizando\n",
    "        variavel_extrema = 0\n",
    "\n",
    "        if maximizando:\n",
    "            variavel_extrema = min(tableau[0, 1:n_variaveis + 1])\n",
    "        else:\n",
    "            variavel_extrema = max(tableau[0, 1:n_variaveis + 1])\n",
    "        \n",
    "        indice_variavel_que_entra = list(tableau[0]).index(variavel_extrema)\n",
    "        coeficientes_variavel_que_entra = tableau[1:, indice_variavel_que_entra]\n",
    "   \n",
    "        #print(\"indice elemento pivô:\\n\", indice_variavel_que_entra)\n",
    "        #print(\"coeficientes pivô:\\n\", coeficientes_variavel_que_entra)\n",
    "        \n",
    "        termos_por_coeficientes = [tableau[1:, -1][i] / coeficientes_variavel_que_entra[i] for i in range(0, len(b))]\n",
    "        # Ignoramos coeficientes negativos\n",
    "        termos_por_coeficientes = list(filter(lambda i: i > 0, termos_por_coeficientes))\n",
    "        indice_variavel_que_sai = 1\n",
    "        menor_valor = termos_por_coeficientes[0]\n",
    "\n",
    "        for i in range(1, len(termos_por_coeficientes)):\n",
    "            if termos_por_coeficientes[i] < menor_valor:\n",
    "                menor_valor = termos_por_coeficientes[i]\n",
    "                indice_variavel_que_sai = i + 1\n",
    "        \n",
    "        elemento_pivo = tableau[indice_variavel_que_sai, indice_variavel_que_entra]\n",
    "             \n",
    "        #print(\"elemento pivo:\\n\", elemento_pivo)\n",
    "        #print(\"linha pivô:\\n\", indice_variavel_que_sai)\n",
    "        \n",
    "        nova_linha_pivo = tableau[indice_variavel_que_sai] / elemento_pivo\n",
    "        #print(\"nova linha pivô:\\n\", nova_linha_pivo)\n",
    "        \n",
    "        tableau[indice_variavel_que_sai] = nova_linha_pivo\n",
    "        \n",
    "        # Recalculando a tableau\n",
    "        for i in range(0, len(tableau)):\n",
    "            if i == indice_variavel_que_sai:\n",
    "                continue\n",
    "                \n",
    "            coeficiente_variavel_que_entra = tableau[i, indice_variavel_que_entra]\n",
    "            #print(coeficiente_variavel_que_entra)\n",
    "            \n",
    "            tableau[i] = nova_linha_pivo * (-coeficiente_variavel_que_entra) + tableau[i]\n",
    "            \n",
    "        print(tableau)\n",
    "\n",
    "        # Se estamos maximizando, paramos quando todos os coeficientes forem maiores ou iguais a zero\n",
    "        # Se estamos minimizando, paramos quando todos os coeficientes forem menores ou iguais a zero\n",
    "        if maximizando and all([i >= 0 for i in tableau[0, 1:n_variaveis + 1]]):\n",
    "            break\n",
    "        elif not maximizando and all([i <= 0 for i in tableau[0, 1:n_variaveis + 1]]):\n",
    "            break\n",
    "        \n",
    "    # coeficientes estão na ordem [x1, x2,..., xF1, xF2,...]\n",
    "    coeficientes = []\n",
    "    \n",
    "    for j in range(1, n_variaveis + n_restricoes + 1):\n",
    "        encontrou_valor = False\n",
    "\n",
    "        for i in range(1, len(tableau)):\n",
    "            if tableau[i, j] == 1:\n",
    "                coeficientes.append(tableau[i, -1])\n",
    "                encontrou_valor = True\n",
    "                break\n",
    "                \n",
    "        if not encontrou_valor:\n",
    "            coeficientes.append(0)\n",
    "        \n",
    "    return {'Z': tableau[0, -1], 'coeficientes': coeficientes}"
   ]
  },
  {
   "cell_type": "code",
   "execution_count": 56,
   "metadata": {},
   "outputs": [
    {
     "output_type": "stream",
     "name": "stdout",
     "text": [
      "[[ 0.  0.  0.  0. -1. -1.  0.]\n [ 3.  1.  0.  0.  1.  0.  3.]\n [ 4.  3. -1.  0.  0.  1.  6.]\n [ 1.  2.  0.  1.  0.  0.  4.]]\n"
     ]
    }
   ],
   "source": [
    "A = [[3, 1],\n",
    "     [4, 3],\n",
    "     [1, 2]]\n",
    "\n",
    "ctype = 'SLU'\n",
    "\n",
    "simplex([3, 1], A, [3, 6, 4], ctype)"
   ]
  },
  {
   "cell_type": "code",
   "execution_count": 58,
   "metadata": {},
   "outputs": [
    {
     "output_type": "stream",
     "name": "stdout",
     "text": [
      "[[ 0.  0.  0.  0.  0. -1. -1.  0.]\n [ 1.  1. -1.  0.  0.  1.  0.  2.]\n [-1.  1.  0. -1.  0.  0.  1.  1.]\n [ 0.  1.  0.  0.  1.  0.  0.  3.]]\n"
     ]
    }
   ],
   "source": [
    "A = [[ 1, 1],\n",
    "     [-1, 1],\n",
    "     [ 0, 1]]\n",
    "\n",
    "ctype = 'LLU'\n",
    "\n",
    "simplex([1, -2], A, [2, 1, 3], ctype)"
   ]
  },
  {
   "cell_type": "code",
   "execution_count": 3,
   "metadata": {},
   "outputs": [
    {
     "name": "stdout",
     "output_type": "stream",
     "text": [
      "[[ 1. -2. -3. -1.  0.  0.  0.  0.]\n",
      " [ 0.  1.  1.  1.  1.  0.  0. 40.]\n",
      " [ 0.  2.  1. -1.  0.  1.  0. 20.]\n",
      " [ 0.  3.  2. -1.  0.  0.  1. 30.]]\n",
      "[[ 1.   2.5  0.  -2.5  0.   0.   1.5 45. ]\n",
      " [ 0.  -0.5  0.   1.5  1.   0.  -0.5 25. ]\n",
      " [ 0.   0.5  0.  -0.5  0.   1.  -0.5  5. ]\n",
      " [ 0.   1.5  1.  -0.5  0.   0.   0.5 15. ]]\n",
      "[[ 1.          1.66666667  0.          0.          1.66666667  0.\n",
      "   0.66666667 86.66666667]\n",
      " [ 0.         -0.33333333  0.          1.          0.66666667  0.\n",
      "  -0.33333333 16.66666667]\n",
      " [ 0.          0.33333333  0.          0.          0.33333333  1.\n",
      "  -0.66666667 13.33333333]\n",
      " [ 0.          1.33333333  1.          0.          0.33333333  0.\n",
      "   0.33333333 23.33333333]]\n"
     ]
    },
    {
     "data": {
      "text/plain": [
       "{'Z': 86.66666666666667,\n",
       " 'coeficientes': [0,\n",
       "  23.333333333333336,\n",
       "  16.666666666666668,\n",
       "  0,\n",
       "  13.333333333333334,\n",
       "  0]}"
      ]
     },
     "execution_count": 3,
     "metadata": {},
     "output_type": "execute_result"
    }
   ],
   "source": [
    "# Exemplo maximização\n",
    "A = [[1, 1,  1],\n",
    "     [2, 1, -1],\n",
    "     [3, 2, -1]]\n",
    "\n",
    "simplex([2, 3, 1], A, [40, 20, 30])"
   ]
  },
  {
   "cell_type": "code",
   "execution_count": 4,
   "metadata": {
    "scrolled": true
   },
   "outputs": [
    {
     "name": "stdout",
     "output_type": "stream",
     "text": [
      "[[ 1. -5.  4. -6.  8.  0.  0.  0.  0.]\n",
      " [ 0.  1.  2.  2.  4.  1.  0.  0. 40.]\n",
      " [ 0.  2. -1.  1.  2.  0.  1.  0.  8.]\n",
      " [ 0.  4. -2.  1. -1.  0.  0.  1. 10.]]\n",
      "[[  1.  -13.    8.  -10.    0.    0.   -4.    0.  -32. ]\n",
      " [  0.   -3.    4.    0.    0.    1.   -2.    0.   24. ]\n",
      " [  0.    1.   -0.5   0.5   1.    0.    0.5   0.    4. ]\n",
      " [  0.    5.   -2.5   1.5   0.    0.    0.5   1.   14. ]]\n",
      "[[  1.     -7.      0.    -10.      0.     -2.      0.      0.    -80.   ]\n",
      " [  0.     -0.75    1.      0.      0.      0.25   -0.5     0.      6.   ]\n",
      " [  0.      0.625   0.      0.5     1.      0.125   0.25    0.      7.   ]\n",
      " [  0.      3.125   0.      1.5     0.      0.625  -0.75    1.     29.   ]]\n"
     ]
    },
    {
     "data": {
      "text/plain": [
       "{'Z': -80.0, 'coeficientes': [0, 6.0, 0, 7.0, 0, 0, 29.0]}"
      ]
     },
     "execution_count": 4,
     "metadata": {},
     "output_type": "execute_result"
    }
   ],
   "source": [
    "# Exemplo minimização:\n",
    "A = [[1,  2, 2,  4],\n",
    "     [2, -1, 1,  2],\n",
    "     [4, -2, 1, -1]]\n",
    "\n",
    "simplex([5, -4, 6, -8], A, [40, 8, 10], False)"
   ]
  },
  {
   "cell_type": "code",
   "execution_count": 5,
   "metadata": {},
   "outputs": [
    {
     "name": "stdout",
     "output_type": "stream",
     "text": [
      "[[ 1.  2.  3.  4.  0.  0.  0.]\n",
      " [ 0.  3.  2.  1.  1.  0. 10.]\n",
      " [ 0.  2.  5.  3.  0.  1. 15.]]\n",
      "[[  1.          -0.66666667  -3.66666667   0.           0.\n",
      "   -1.33333333 -20.        ]\n",
      " [  0.           2.33333333   0.33333333   0.           1.\n",
      "   -0.33333333   5.        ]\n",
      " [  0.           0.66666667   1.66666667   1.           0.\n",
      "    0.33333333   5.        ]]\n"
     ]
    },
    {
     "data": {
      "text/plain": [
       "{'Z': -20.0, 'coeficientes': [0, 0, 5.0, 5.0, 0]}"
      ]
     },
     "execution_count": 5,
     "metadata": {},
     "output_type": "execute_result"
    }
   ],
   "source": [
    "# Outro exemplo de minimização:\n",
    "A = [[3, 2, 1],\n",
    "     [2, 5, 3]]\n",
    "\n",
    "simplex([-2, -3, -4], A, [10, 15], False)"
   ]
  }
 ],
 "metadata": {
  "kernelspec": {
   "display_name": "Python 3",
   "language": "python",
   "name": "python3"
  },
  "language_info": {
   "codemirror_mode": {
    "name": "ipython",
    "version": 3
   },
   "file_extension": ".py",
   "mimetype": "text/x-python",
   "name": "python",
   "nbconvert_exporter": "python",
   "pygments_lexer": "ipython3",
   "version": "3.8.5-final"
  }
 },
 "nbformat": 4,
 "nbformat_minor": 4
}