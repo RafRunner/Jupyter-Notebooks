{
 "cells": [
  {
   "cell_type": "markdown",
   "metadata": {},
   "source": [
    "# Rafael Nunes Santana - 201800215\n",
    "\n",
    "### Atividade 9 (Teste 2) - Pesquisa Operacional I\n",
    "\n",
    "Nessa atividade estaremos implementando o algoritmo Simplex de duas fases com base no código feito para a atividade 8. Esse algoritmo trabalha com variáveis positivas e restrições do tipo A(i,:)*x <= b(i). Ele é capaz de resolver problemas de maximização e minimização e consegue resolver mais problemas que o algoritmo anterior pois consegue corrigir restrições que inicialmente não tem solução.\n",
    "\n",
    "## Funcionamento do algoritmo\n",
    "\n",
    "Relacionado à programação linear, que trabalha com funções do 1º grau, a ideia do algoritmo é bem simples. Inicialmente, atribui-se valor zero às variáveis, que seria distante da solução. Em seguida, incrementa-se pouco a pouco a variável que tem maior interferência positiva no resultado da função objetivo, ou seja, a que possui o maior coeficiente. Esta é chamada de \"variável ativa\" e tem grande importância inicial pois é a mais “lucrativa” delas, ou seja, a que mais nos aproxima da otimização.\n",
    "\n",
    "Conforme este valor aumenta, o algoritmo testa todas as restrições, até que uma delas não seja satisfeita. Esta restrição recebe o nome de \"restrição ativa\". Neste momento, conhece-se o valor máximo da variável ativa. O procedimento, então, passa para a próxima variável que nos aproxima da boa solução, sempre levando em consideração o máximo valor que a primeira pôde atingir. A cada mudança destas, o Simplex converte todos os coeficientes (inclusive os da função objetivo) de acordo com os limites encontrados nas sucessivas restrições ativas.\n",
    "\n",
    "O procedimento é repetido até que o incremento das variáveis apresente-se como um decréscimo do total atingido. Isto é identificado com o sinal negativo à frente dos coeficientes da função objetivo. Ao fim, os valores buscados serão conhecidos por meio de um sistema de equações, estas oriundas do problema inicial."
   ]
  },
  {
   "cell_type": "code",
   "execution_count": 3,
   "metadata": {},
   "outputs": [],
   "source": [
    "import numpy as np"
   ]
  },
  {
   "cell_type": "code",
   "execution_count": 110,
   "metadata": {},
   "outputs": [],
   "source": [
    "# Argumentos da função:\n",
    "# c: vetor com os coeficientes da função objetivo\n",
    "# A: matriz com os coeficientes das restrições\n",
    "# b: vetor com os lados direito das restrições\n",
    "# minimizando: Se a função objetiva deve ser minimizada. As restrições passam a ser do tipo A(i,:)*x <= b(i)\n",
    "\n",
    "# OBS.: estamos considerando todas as variáveis >= 0\n",
    "def simplex(c, A, b, maximizando=True):\n",
    "    n_variaveis = len(c)\n",
    "    n_restricoes = len(A)\n",
    "    \n",
    "    # Criando e preenchendo a matriz tableau\n",
    "    tableau = np.zeros((n_restricoes + 2, n_variaveis + n_restricoes + 1), dtype=float)\n",
    "    tableau[-2, :n_variaveis] = [-i if maximizando else i for i in c]\n",
    "    tableau[-1, n_variaveis:-1] = np.full(shape=n_restricoes, fill_value=1, dtype=float)\n",
    "    \n",
    "    for i in range(0, n_restricoes):\n",
    "        tableau[i, :n_variaveis] = A[i]\n",
    "        tableau[i, n_variaveis + i] = 1\n",
    "        tableau[i, -1] = b[i]\n",
    "        \n",
    "    print(\"Tableau para o início da primeira fase:\")\n",
    "    print(tableau)\n",
    "\n",
    "    # Passando o tableau para a forma padrão\n",
    "    for i in range(0, n_restricoes):\n",
    "        tableau[-1] -= tableau[i]\n",
    "\n",
    "    print(\"\\nTableau na forma padrão:\")\n",
    "    print(tableau)\n",
    "\n",
    "    print(\"\\nIniciando as iterações da primeira fase:\")\n",
    "\n",
    "    resultado_primeira_fase = fase_simplex(n_variaveis, n_restricoes, tableau, maximizando)\n",
    "\n",
    "    print(\"\\nIniciando as iterações da segunda fase:\")\n",
    "\n",
    "    return fase_simplex(n_variaveis, n_restricoes, tableau[:-1], maximizando)\n",
    "    \n",
    "\n",
    "def fase_simplex(n_variaveis, n_restricoes, tableau, maximizando):\n",
    "    print(tableau, \"\\n\")\n",
    "\n",
    "    for coluna in range(0, n_variaveis):\n",
    "        if tableau[-1, coluna] >= 0:\n",
    "            continue\n",
    "\n",
    "        indice_variavel_que_entra = coluna\n",
    "        coeficientes_variavel_que_entra = tableau[0:n_variaveis - 1, indice_variavel_que_entra]\n",
    "   \n",
    "        #print(\"coluna elemento pivô:\\n\", indice_variavel_que_entra)\n",
    "        termos_por_coeficientes = [tableau[i, -1] / tableau[i, indice_variavel_que_entra] for i in range(0, n_restricoes)]\n",
    "        #print(\"termos por coeficientes pivô:\\n\", termos_por_coeficientes)\n",
    "\n",
    "        indice_variavel_que_sai = None\n",
    "        menor_valor = None\n",
    "\n",
    "        for i in range(0, len(termos_por_coeficientes)):\n",
    "            if termos_por_coeficientes[i] > 0 and (menor_valor is None or termos_por_coeficientes[i] < menor_valor):\n",
    "                menor_valor = termos_por_coeficientes[i]\n",
    "                indice_variavel_que_sai = i\n",
    "        \n",
    "        elemento_pivo = tableau[indice_variavel_que_sai, indice_variavel_que_entra]\n",
    "             \n",
    "        #print(\"elemento pivo:\\n\", elemento_pivo)\n",
    "        #print(\"linha pivô:\\n\", indice_variavel_que_sai)\n",
    "        \n",
    "        nova_linha_pivo = tableau[indice_variavel_que_sai] / elemento_pivo\n",
    "        #print(\"nova linha pivô:\\n\", nova_linha_pivo)\n",
    "        \n",
    "        tableau[indice_variavel_que_sai] = nova_linha_pivo\n",
    "        \n",
    "        # Recalculando a tableau\n",
    "        for i in range(0, len(tableau)):\n",
    "            if i == indice_variavel_que_sai:\n",
    "                continue\n",
    "                \n",
    "            coeficiente_variavel_que_entra = tableau[i, indice_variavel_que_entra]\n",
    "            #print(coeficiente_variavel_que_entra)\n",
    "            \n",
    "            tableau[i] = nova_linha_pivo * (-coeficiente_variavel_que_entra) + tableau[i]\n",
    "            \n",
    "        print(tableau, \"\\n\")\n",
    "        \n",
    "    # coeficientes estão na ordem [x1, x2,..., xF1, xF2,...]\n",
    "    coeficientes = []\n",
    "    \n",
    "    for j in range(0, n_variaveis + n_restricoes):\n",
    "        encontrou_valor = False\n",
    "\n",
    "        for i in range(0, n_restricoes + 1):\n",
    "            if tableau[i, j] == 1:\n",
    "                if encontrou_valor:\n",
    "                    coeficientes.pop()\n",
    "                    encontrou_valor = False\n",
    "                    break\n",
    "\n",
    "                coeficientes.append(tableau[i, -1])\n",
    "                encontrou_valor = True\n",
    "                \n",
    "        if not encontrou_valor:\n",
    "            coeficientes.append(0)\n",
    "        \n",
    "    return {'Z': tableau[-1, -1] if maximizando else -tableau[-1, -1], 'coeficientes': coeficientes}"
   ]
  },
  {
   "cell_type": "code",
   "execution_count": 111,
   "metadata": {
    "tags": []
   },
   "outputs": [
    {
     "output_type": "stream",
     "name": "stdout",
     "text": [
      "Tableau para o início da primeira fase:\n[[2. 1. 2. 1. 0. 4.]\n [3. 3. 1. 0. 1. 3.]\n [4. 1. 1. 0. 0. 0.]\n [0. 0. 0. 1. 1. 0.]]\n\nTableau na forma padrão:\n[[ 2.  1.  2.  1.  0.  4.]\n [ 3.  3.  1.  0.  1.  3.]\n [ 4.  1.  1.  0.  0.  0.]\n [-5. -4. -3.  0.  0. -7.]]\n\nIniciando as iterações da primeira fase:\n[[ 2.  1.  2.  1.  0.  4.]\n [ 3.  3.  1.  0.  1.  3.]\n [ 4.  1.  1.  0.  0.  0.]\n [-5. -4. -3.  0.  0. -7.]] \n\n[[ 0.         -1.          1.33333333  1.         -0.66666667  2.        ]\n [ 1.          1.          0.33333333  0.          0.33333333  1.        ]\n [ 0.         -3.         -0.33333333  0.         -1.33333333 -4.        ]\n [ 0.          1.         -1.33333333  0.          1.66666667 -2.        ]] \n\n[[ 0.   -0.75  1.    0.75 -0.5   1.5 ]\n [ 1.    1.25  0.   -0.25  0.5   0.5 ]\n [ 0.   -3.25  0.    0.25 -1.5  -3.5 ]\n [ 0.    0.    0.    1.    1.    0.  ]] \n\n\nIniciando as iterações da segunda fase:\n[[ 0.   -0.75  1.    0.75 -0.5   1.5 ]\n [ 1.    1.25  0.   -0.25  0.5   0.5 ]\n [ 0.   -3.25  0.    0.25 -1.5  -3.5 ]] \n\n[[ 0.6  0.   1.   0.6 -0.2  1.8]\n [ 0.8  1.   0.  -0.2  0.4  0.4]\n [ 2.6  0.   0.  -0.4 -0.2 -2.2]] \n\n"
     ]
    },
    {
     "output_type": "execute_result",
     "data": {
      "text/plain": [
       "{'Z': 2.1999999999999997,\n",
       " 'coeficientes': [0, 0.4000000000000001, 1.7999999999999998, 0, 0]}"
      ]
     },
     "metadata": {},
     "execution_count": 111
    }
   ],
   "source": [
    "A = [[2, 1, 2],\n",
    "     [3, 3, 1]]\n",
    "\n",
    "simplex([4, 1, 1], A, [4, 3], False)"
   ]
  },
  {
   "cell_type": "code",
   "execution_count": 112,
   "metadata": {},
   "outputs": [
    {
     "output_type": "stream",
     "name": "stdout",
     "text": [
      "Tableau para o início da primeira fase:\n[[ 1.  2.  0.  1.  1.  0.  0.  0.  6.]\n [ 1.  2.  1.  1.  0.  1.  0.  0.  7.]\n [ 1.  3. -1.  2.  0.  0.  1.  0.  7.]\n [ 1.  1.  1.  0.  0.  0.  0.  1.  5.]\n [ 2.  6.  1.  1.  0.  0.  0.  0.  0.]\n [ 0.  0.  0.  0.  1.  1.  1.  1.  0.]]\n\nTableau na forma padrão:\n[[  1.   2.   0.   1.   1.   0.   0.   0.   6.]\n [  1.   2.   1.   1.   0.   1.   0.   0.   7.]\n [  1.   3.  -1.   2.   0.   0.   1.   0.   7.]\n [  1.   1.   1.   0.   0.   0.   0.   1.   5.]\n [  2.   6.   1.   1.   0.   0.   0.   0.   0.]\n [ -4.  -8.  -1.  -4.   0.   0.   0.   0. -25.]]\n\nIniciando as iterações da primeira fase:\n[[  1.   2.   0.   1.   1.   0.   0.   0.   6.]\n [  1.   2.   1.   1.   0.   1.   0.   0.   7.]\n [  1.   3.  -1.   2.   0.   0.   1.   0.   7.]\n [  1.   1.   1.   0.   0.   0.   0.   1.   5.]\n [  2.   6.   1.   1.   0.   0.   0.   0.   0.]\n [ -4.  -8.  -1.  -4.   0.   0.   0.   0. -25.]] \n\n[[  0.   1.  -1.   1.   1.   0.   0.  -1.   1.]\n [  0.   1.   0.   1.   0.   1.   0.  -1.   2.]\n [  0.   2.  -2.   2.   0.   0.   1.  -1.   2.]\n [  1.   1.   1.   0.   0.   0.   0.   1.   5.]\n [  0.   4.  -1.   1.   0.   0.   0.  -2. -10.]\n [  0.  -4.   3.  -4.   0.   0.   0.   4.  -5.]] \n\n[[  0.   1.  -1.   1.   1.   0.   0.  -1.   1.]\n [  0.   0.   1.   0.  -1.   1.   0.   0.   1.]\n [  0.   0.   0.   0.  -2.   0.   1.   1.   0.]\n [  1.   0.   2.  -1.  -1.   0.   0.   2.   4.]\n [  0.   0.   3.  -3.  -4.   0.   0.   2. -14.]\n [  0.   0.  -1.   0.   4.   0.   0.   0.  -1.]] \n\n[[  0.   1.   0.   1.   0.   1.   0.  -1.   2.]\n [  0.   0.   1.   0.  -1.   1.   0.   0.   1.]\n [  0.   0.   0.   0.  -2.   0.   1.   1.   0.]\n [  1.   0.   0.  -1.   1.  -2.   0.   2.   2.]\n [  0.   0.   0.  -3.  -1.  -3.   0.   2. -17.]\n [  0.   0.   0.   0.   3.   1.   0.   0.   0.]] \n\n\nIniciando as iterações da segunda fase:\n[[  0.   1.   0.   1.   0.   1.   0.  -1.   2.]\n [  0.   0.   1.   0.  -1.   1.   0.   0.   1.]\n [  0.   0.   0.   0.  -2.   0.   1.   1.   0.]\n [  1.   0.   0.  -1.   1.  -2.   0.   2.   2.]\n [  0.   0.   0.  -3.  -1.  -3.   0.   2. -17.]] \n\n[[  0.   1.   0.   1.   0.   1.   0.  -1.   2.]\n [  0.   0.   1.   0.  -1.   1.   0.   0.   1.]\n [  0.   0.   0.   0.  -2.   0.   1.   1.   0.]\n [  1.   1.   0.   0.   1.  -1.   0.   1.   4.]\n [  0.   3.   0.   0.  -1.   0.   0.  -1. -11.]] \n\n"
     ]
    },
    {
     "output_type": "execute_result",
     "data": {
      "text/plain": [
       "{'Z': 11.0, 'coeficientes': [4.0, 0, 1.0, 2.0, 4.0, 0, 0.0, 0]}"
      ]
     },
     "metadata": {},
     "execution_count": 112
    }
   ],
   "source": [
    "A = [[1, 2, 0, 1],\n",
    "     [1, 2, 1, 1],\n",
    "     [1, 3, -1, 2],\n",
    "     [1, 1, 1, 0]]\n",
    "\n",
    "simplex([2, 6, 1, 1], A, [6, 7, 7, 5], False)"
   ]
  },
  {
   "cell_type": "code",
   "execution_count": 116,
   "metadata": {},
   "outputs": [
    {
     "output_type": "stream",
     "name": "stdout",
     "text": [
      "Tableau para o início da primeira fase:\n[[3. 2. 1. 0. 0. 3.]\n [4. 3. 0. 1. 0. 6.]\n [1. 2. 0. 0. 1. 4.]\n [4. 1. 0. 0. 0. 0.]\n [0. 0. 1. 1. 1. 0.]]\n\nTableau na forma padrão:\n[[  3.   2.   1.   0.   0.   3.]\n [  4.   3.   0.   1.   0.   6.]\n [  1.   2.   0.   0.   1.   4.]\n [  4.   1.   0.   0.   0.   0.]\n [ -8.  -7.   0.   0.   0. -13.]]\n\nIniciando as iterações da primeira fase:\n[[  3.   2.   1.   0.   0.   3.]\n [  4.   3.   0.   1.   0.   6.]\n [  1.   2.   0.   0.   1.   4.]\n [  4.   1.   0.   0.   0.   0.]\n [ -8.  -7.   0.   0.   0. -13.]] \n\n[[ 1.          0.66666667  0.33333333  0.          0.          1.        ]\n [ 0.          0.33333333 -1.33333333  1.          0.          2.        ]\n [ 0.          1.33333333 -0.33333333  0.          1.          3.        ]\n [ 0.         -1.66666667 -1.33333333  0.          0.         -4.        ]\n [ 0.         -1.66666667  2.66666667  0.          0.         -5.        ]] \n\n[[ 1.5  1.   0.5  0.   0.   1.5]\n [-0.5  0.  -1.5  1.   0.   1.5]\n [-2.   0.  -1.   0.   1.   1. ]\n [ 2.5  0.  -0.5  0.   0.  -1.5]\n [ 2.5  0.   3.5  0.   0.  -2.5]] \n\n\nIniciando as iterações da segunda fase:\n[[ 1.5  1.   0.5  0.   0.   1.5]\n [-0.5  0.  -1.5  1.   0.   1.5]\n [-2.   0.  -1.   0.   1.   1. ]\n [ 2.5  0.  -0.5  0.   0.  -1.5]] \n\n"
     ]
    },
    {
     "output_type": "execute_result",
     "data": {
      "text/plain": [
       "{'Z': 1.5, 'coeficientes': [0, 1.5, 0, 1.4999999999999998, 1.0]}"
      ]
     },
     "metadata": {},
     "execution_count": 116
    }
   ],
   "source": [
    "A = [[3, 2],\n",
    "     [4, 3],\n",
    "     [1, 2]]\n",
    "\n",
    "simplex([4, 1], A, [3, 6, 4], False)"
   ]
  },
  {
   "cell_type": "code",
   "execution_count": 115,
   "metadata": {},
   "outputs": [
    {
     "output_type": "stream",
     "name": "stdout",
     "text": [
      "Tableau para o início da primeira fase:\n[[ 1.  1.  1.  1.  0.  0. 40.]\n [ 2.  1. -1.  0.  1.  0. 20.]\n [ 3.  2. -1.  0.  0.  1. 30.]\n [-2. -3. -1.  0.  0.  0.  0.]\n [ 0.  0.  0.  1.  1.  1.  0.]]\n\nTableau na forma padrão:\n[[  1.   1.   1.   1.   0.   0.  40.]\n [  2.   1.  -1.   0.   1.   0.  20.]\n [  3.   2.  -1.   0.   0.   1.  30.]\n [ -2.  -3.  -1.   0.   0.   0.   0.]\n [ -6.  -4.   1.   0.   0.   0. -90.]]\n\nIniciando as iterações da primeira fase:\n[[  1.   1.   1.   1.   0.   0.  40.]\n [  2.   1.  -1.   0.   1.   0.  20.]\n [  3.   2.  -1.   0.   0.   1.  30.]\n [ -2.  -3.  -1.   0.   0.   0.   0.]\n [ -6.  -4.   1.   0.   0.   0. -90.]] \n\n[[  0.    0.5   1.5   1.   -0.5   0.   30. ]\n [  1.    0.5  -0.5   0.    0.5   0.   10. ]\n [  0.    0.5   0.5   0.   -1.5   1.    0. ]\n [  0.   -2.   -2.    0.    1.    0.   20. ]\n [  0.   -1.   -2.    0.    3.    0.  -30. ]] \n\n[[ -1.   0.   2.   1.  -1.   0.  20.]\n [  2.   1.  -1.   0.   1.   0.  20.]\n [ -1.   0.   1.   0.  -2.   1. -10.]\n [  4.   0.  -4.   0.   3.   0.  60.]\n [  2.   0.  -3.   0.   4.   0. -10.]] \n\n[[ -0.5   0.    1.    0.5  -0.5   0.   10. ]\n [  1.5   1.    0.    0.5   0.5   0.   30. ]\n [ -0.5   0.    0.   -0.5  -1.5   1.  -20. ]\n [  2.    0.    0.    2.    1.    0.  100. ]\n [  0.5   0.    0.    1.5   2.5   0.   20. ]] \n\n\nIniciando as iterações da segunda fase:\n[[ -0.5   0.    1.    0.5  -0.5   0.   10. ]\n [  1.5   1.    0.    0.5   0.5   0.   30. ]\n [ -0.5   0.    0.   -0.5  -1.5   1.  -20. ]\n [  2.    0.    0.    2.    1.    0.  100. ]] \n\n"
     ]
    },
    {
     "output_type": "execute_result",
     "data": {
      "text/plain": [
       "{'Z': 100.0, 'coeficientes': [0, 30.0, 10.0, 0, 100.0, -20.0]}"
      ]
     },
     "metadata": {},
     "execution_count": 115
    }
   ],
   "source": [
    "# Exemplo maximização\n",
    "A = [[1, 1,  1],\n",
    "     [2, 1, -1],\n",
    "     [3, 2, -1]]\n",
    "\n",
    "simplex([2, 3, 1], A, [40, 20, 30])"
   ]
  },
  {
   "cell_type": "code",
   "execution_count": 109,
   "metadata": {
    "scrolled": true
   },
   "outputs": [
    {
     "output_type": "stream",
     "name": "stdout",
     "text": [
      "Tableau para o início da primeira fase:\n[[ 1.  2.  2.  4.  1.  0.  0. 40.]\n [ 2. -1.  1.  2.  0.  1.  0.  8.]\n [ 4. -2.  1. -1.  0.  0.  1. 10.]\n [ 5. -4.  6. -8.  0.  0.  0.  0.]\n [ 0.  0.  0.  0.  1.  1.  1.  0.]]\n\nTableau na forma padrão:\n[[  1.   2.   2.   4.   1.   0.   0.  40.]\n [  2.  -1.   1.   2.   0.   1.   0.   8.]\n [  4.  -2.   1.  -1.   0.   0.   1.  10.]\n [  5.  -4.   6.  -8.   0.   0.   0.   0.]\n [ -7.   1.  -4.  -5.   0.   0.   0. -58.]]\n\nIniciando as iterações da primeira fase:\n[[  1.   2.   2.   4.   1.   0.   0.  40.]\n [  2.  -1.   1.   2.   0.   1.   0.   8.]\n [  4.  -2.   1.  -1.   0.   0.   1.  10.]\n [  5.  -4.   6.  -8.   0.   0.   0.   0.]\n [ -7.   1.  -4.  -5.   0.   0.   0. -58.]] \n\n[[  0.     2.5    1.75   4.25   1.     0.    -0.25  37.5 ]\n [  0.     0.     0.5    2.5    0.     1.    -0.5    3.  ]\n [  1.    -0.5    0.25  -0.25   0.     0.     0.25   2.5 ]\n [  0.    -1.5    4.75  -6.75   0.     0.    -1.25 -12.5 ]\n [  0.    -2.5   -2.25  -6.75   0.     0.     1.75 -40.5 ]] \n\n[[ 0.   1.   0.7  1.7  0.4  0.  -0.1 15. ]\n [ 0.   0.   0.5  2.5  0.   1.  -0.5  3. ]\n [ 1.   0.   0.6  0.6  0.2  0.   0.2 10. ]\n [ 0.   0.   5.8 -4.2  0.6  0.  -1.4 10. ]\n [ 0.   0.  -0.5 -2.5  1.   0.   1.5 -3. ]] \n\n[[  0.    1.    0.   -1.8   0.4  -1.4   0.6  10.8]\n [  0.    0.    1.    5.    0.    2.   -1.    6. ]\n [  1.    0.    0.   -2.4   0.2  -1.2   0.8   6.4]\n [  0.    0.    0.  -33.2   0.6 -11.6   4.4 -24.8]\n [  0.    0.    0.    0.    1.    1.    1.    0. ]] \n\n[[ 0.    1.    0.36  0.    0.4  -0.68  0.24 12.96]\n [ 0.    0.    0.2   1.    0.    0.4  -0.2   1.2 ]\n [ 1.    0.    0.48  0.    0.2  -0.24  0.32  9.28]\n [ 0.    0.    6.64  0.    0.6   1.68 -2.24 15.04]\n [ 0.    0.    0.    0.    1.    1.    1.    0.  ]] \n\n\nIniciando as iterações da segunda fase:\n[[ 0.    1.    0.36  0.    0.4  -0.68  0.24 12.96]\n [ 0.    0.    0.2   1.    0.    0.4  -0.2   1.2 ]\n [ 1.    0.    0.48  0.    0.2  -0.24  0.32  9.28]\n [ 0.    0.    6.64  0.    0.6   1.68 -2.24 15.04]] \n\n[[ 0.    1.    0.36  0.    0.4  -0.68  0.24 12.96]\n [ 0.    0.    0.2   1.    0.    0.4  -0.2   1.2 ]\n [ 1.    0.    0.48  0.    0.2  -0.24  0.32  9.28]\n [ 0.    0.    6.64  0.    0.6   1.68 -2.24 15.04]] \n\n[[ 0.    1.    0.36  0.    0.4  -0.68  0.24 12.96]\n [ 0.    0.    0.2   1.    0.    0.4  -0.2   1.2 ]\n [ 1.    0.    0.48  0.    0.2  -0.24  0.32  9.28]\n [ 0.    0.    6.64  0.    0.6   1.68 -2.24 15.04]] \n\n[[  0.    1.    0.   -1.8   0.4  -1.4   0.6  10.8]\n [  0.    0.    1.    5.    0.    2.   -1.    6. ]\n [  1.    0.    0.   -2.4   0.2  -1.2   0.8   6.4]\n [  0.    0.    0.  -33.2   0.6 -11.6   4.4 -24.8]] \n\n[[ 0.    1.    0.36  0.    0.4  -0.68  0.24 12.96]\n [ 0.    0.    0.2   1.    0.    0.4  -0.2   1.2 ]\n [ 1.    0.    0.48  0.    0.2  -0.24  0.32  9.28]\n [ 0.    0.    6.64  0.    0.6   1.68 -2.24 15.04]] \n\n"
     ]
    },
    {
     "output_type": "execute_result",
     "data": {
      "text/plain": [
       "{'Z': -15.040000000000006,\n",
       " 'coeficientes': [9.280000000000001, 12.96, 0, 1.1999999999999997, 0, 0, 0]}"
      ]
     },
     "metadata": {},
     "execution_count": 109
    }
   ],
   "source": [
    "# Exemplo minimização:\n",
    "A = [[1,  2, 2,  4],\n",
    "     [2, -1, 1,  2],\n",
    "     [4, -2, 1, -1]]\n",
    "\n",
    "simplex([5, -4, 6, -8], A, [40, 8, 10], False)"
   ]
  },
  {
   "cell_type": "code",
   "execution_count": 83,
   "metadata": {},
   "outputs": [
    {
     "output_type": "stream",
     "name": "stdout",
     "text": [
      "Tableau para o início da primeira fase:\n[[ 3.  2.  1.  1.  0. 10.]\n [ 2.  5.  3.  0.  1. 15.]\n [-2. -3. -4.  0.  0.  0.]\n [ 0.  0.  0.  1.  1.  0.]]\n\nTableau na forma padrão:\n[[  3.   2.   1.   1.   0.  10.]\n [  2.   5.   3.   0.   1.  15.]\n [ -2.  -3.  -4.   0.   0.   0.]\n [ -5.  -7.  -4.   0.   0. -25.]]\n\nIniciando as iterações da primeira fase:\n[[ 2.2  0.  -0.2  1.  -0.4  4. ]\n [ 0.4  1.   0.6  0.   0.2  3. ]\n [-0.8  0.  -2.2  0.   0.6  9. ]\n [-2.2  0.   0.2  0.   1.4 -4. ]]\n\n\n[[ 1.00000000e+00  0.00000000e+00 -9.09090909e-02  4.54545455e-01\n  -1.81818182e-01  1.81818182e+00]\n [ 0.00000000e+00  1.00000000e+00  6.36363636e-01 -1.81818182e-01\n   2.72727273e-01  2.27272727e+00]\n [ 0.00000000e+00  0.00000000e+00 -2.27272727e+00  3.63636364e-01\n   4.54545455e-01  1.04545455e+01]\n [ 0.00000000e+00  0.00000000e+00  2.49800181e-16  1.00000000e+00\n   1.00000000e+00 -4.44089210e-16]]\n\n\n\nIniciando as iterações da segunda fase:\n[[ 1.          0.14285714  0.          0.42857143 -0.14285714  2.14285714]\n [ 0.          1.57142857  1.         -0.28571429  0.42857143  3.57142857]\n [ 0.          3.57142857  0.         -0.28571429  1.42857143 18.57142857]]\n\n\n"
     ]
    },
    {
     "output_type": "execute_result",
     "data": {
      "text/plain": [
       "{'Z': -18.57142857142857,\n",
       " 'coeficientes': [2.142857142857143, 0, 3.571428571428571, 0, 0]}"
      ]
     },
     "metadata": {},
     "execution_count": 83
    }
   ],
   "source": [
    "# Outro exemplo de minimização:\n",
    "A = [[3, 2, 1],\n",
    "     [2, 5, 3]]\n",
    "\n",
    "simplex([-2, -3, -4], A, [10, 15], False)"
   ]
  }
 ],
 "metadata": {
  "kernelspec": {
   "display_name": "Python 3",
   "language": "python",
   "name": "python3"
  },
  "language_info": {
   "codemirror_mode": {
    "name": "ipython",
    "version": 3
   },
   "file_extension": ".py",
   "mimetype": "text/x-python",
   "name": "python",
   "nbconvert_exporter": "python",
   "pygments_lexer": "ipython3",
   "version": "3.8.5-final"
  }
 },
 "nbformat": 4,
 "nbformat_minor": 4
}