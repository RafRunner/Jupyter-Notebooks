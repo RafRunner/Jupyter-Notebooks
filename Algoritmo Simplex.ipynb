{
 "cells": [
  {
   "cell_type": "markdown",
   "metadata": {},
   "source": [
    "# Rafael Nunes Santana - 201800215\n",
    "\n",
    "### Atividade 7 - Pesquisa Operacional I\n",
    "\n",
    "Nessa atividade iremos implementar e explicar o método (algoritmo) Simplex para resolver problemas de maximização multi dimensionais com variáveis positivas e restrições do tipo A(i,:)*x >= b(i).\n",
    "\n",
    "## Funcionamento do algoritmo\n",
    "\n",
    "Relacionado à programação linear, que trabalha com funções do 1º grau, a ideia do algoritmo é bem simples. Inicialmente, atribui-se valor zero às variáveis, que seria distante da solução. Em seguida, incrementa-se pouco a pouco a variável que tem maior interferência positiva no resultado da função objetivo, ou seja, a que possui o maior coeficiente. Esta é chamada de \"variável ativa\" e tem grande importância inicial pois é a mais “lucrativa” delas, ou seja, a que mais nos aproxima da otimização.\n",
    "\n",
    "Conforme este valor aumenta, o algoritmo testa todas as restrições, até que uma delas não seja satisfeita. Esta restrição recebe o nome de \"restrição ativa\". Neste momento, conhece-se o valor máximo da variável ativa. O procedimento, então, passa para a próxima variável que nos aproxima da boa solução, sempre levando em consideração o máximo valor que a primeira pôde atingir. A cada mudança destas, o Simplex converte todos os coeficientes (inclusive os da função objetivo) de acordo com os limites encontrados nas sucessivas restrições ativas.\n",
    "\n",
    "O procedimento é repetido até que o incremento das variáveis apresente-se como um decréscimo do total atingido. Isto é identificado com o sinal negativo à frente dos coeficientes da função objetivo. Ao fim, os valores buscados serão conhecidos por meio de um sistema de equações, estas oriundas do problema inicial."
   ]
  },
  {
   "cell_type": "code",
   "execution_count": 1,
   "metadata": {},
   "outputs": [],
   "source": [
    "import numpy as np"
   ]
  },
  {
   "cell_type": "code",
   "execution_count": 108,
   "metadata": {},
   "outputs": [],
   "source": [
    "# Argumentos da função:\n",
    "# c: vetor com os coeficientes da função objetivo\n",
    "# A: matriz com os coeficientes das restrições\n",
    "# b: vetor com os lados direito das restrições\n",
    "\n",
    "# OBS.: estamos considerando todas as variáveis >= 0\n",
    "def simplex(c, A, b):\n",
    "    n_variaveis = len(c)\n",
    "    n_restricoes = len(A)\n",
    "    \n",
    "    # criando e preenchendo a matriz tableau\n",
    "    tableau = np.zeros((n_restricoes + 1, n_variaveis * 2 + 2), dtype=float)\n",
    "    tableau[0, 0] = 1\n",
    "    tableau[0, 1:n_variaveis + 1] = [-i for i in c]\n",
    "    \n",
    "    for i in range(0, n_restricoes):\n",
    "        tableau[i+1, 1:n_variaveis + 1] = A[i]\n",
    "        tableau[i+1, n_variaveis + 1 + i] = 1\n",
    "        tableau[i+1, -1] = b[i]\n",
    "        \n",
    "    #print(tableau)\n",
    "    \n",
    "    # Inicialemnte assumimos as variáveis não básicas ótima como [0, 0, ..., 0] e básicas como b\n",
    "    valor_variaveis = np.zeros(len(c), dtype=float)\n",
    "    valor_folga = np.array(b, dtype=float)\n",
    "    \n",
    "    # Fazemos iterações até todos os coeficientes da função objetivo serem maiores ou iguais a 0\n",
    "    while any([i < 0 for i in tableau[0, 1:n_variaveis + 1]]):\n",
    "\n",
    "        indice_variavel_que_entra = list(tableau[0]).index(min(tableau[0, 1:n_variaveis + 1]))\n",
    "        coeficientes_variavel_que_entra = tableau[1:, indice_variavel_que_entra]\n",
    "   \n",
    "        #print(\"indice elemento pivô:\\n\", indice_variavel_que_entra)\n",
    "        #print(\"coeficientes pivô:\\n\", coeficientes_variavel_que_entra)\n",
    "        \n",
    "        termos_por_coeficientes = [tableau[1:, -1][i] / coeficientes_variavel_que_entra[i] for i in range(0, len(b))]\n",
    "        # Ignoramos coeficientes negativos\n",
    "        termos_por_coeficientes = list(filter(lambda i: i > 0, termos_por_coeficientes))\n",
    "        indice_variavel_que_sai = 1\n",
    "        menor_valor = termos_por_coeficientes[0]\n",
    "\n",
    "        for i in range(1, len(termos_por_coeficientes)):\n",
    "            if termos_por_coeficientes[i] < menor_valor:\n",
    "                menor_valor = termos_por_coeficientes[i]\n",
    "                indice_variavel_que_sai = i + 1\n",
    "        \n",
    "        elemento_pivo = tableau[indice_variavel_que_sai, indice_variavel_que_entra]\n",
    "             \n",
    "        #print(\"elemento pivo:\\n\", elemento_pivo)\n",
    "        #print(\"linha pivô:\\n\", indice_variavel_que_sai)\n",
    "        \n",
    "        nova_linha_pivo = tableau[indice_variavel_que_sai] / elemento_pivo\n",
    "        #print(\"nova linha pivô:\\n\", nova_linha_pivo)\n",
    "        \n",
    "        tableau[indice_variavel_que_sai] = nova_linha_pivo\n",
    "        \n",
    "        # Recalculando a tableau\n",
    "        for i in range(0, len(tableau)):\n",
    "            if i == indice_variavel_que_sai:\n",
    "                continue\n",
    "                \n",
    "            coeficiente_variavel_que_entra = tableau[i, indice_variavel_que_entra]\n",
    "            #print(coeficiente_variavel_que_entra)\n",
    "            \n",
    "            tableau[i] = nova_linha_pivo * (-coeficiente_variavel_que_entra) + tableau[i]\n",
    "            \n",
    "        #print(tableau)\n",
    "        \n",
    "    # coeficientes estão na ordem [x1, x2,..., xF1, xF2,...]\n",
    "    coeficientes = []\n",
    "    \n",
    "    for j in range(1, n_variaveis * 2 + 1):\n",
    "        encontrou_valor = False\n",
    "\n",
    "        for i in range(1, len(tableau)):\n",
    "            if tableau[i, j] == 1:\n",
    "                coeficientes.append(tableau[i, -1])\n",
    "                encontrou_valor = True\n",
    "                continue\n",
    "                \n",
    "        if not encontrou_valor:\n",
    "            coeficientes.append(0)\n",
    "        \n",
    "    return {'Z': tableau[0, -1], 'coeficientes': coeficientes}"
   ]
  },
  {
   "cell_type": "code",
   "execution_count": 109,
   "metadata": {},
   "outputs": [
    {
     "data": {
      "text/plain": [
       "{'Z': 86.66666666666667,\n",
       " 'coeficientes': [0,\n",
       "  23.333333333333336,\n",
       "  16.666666666666668,\n",
       "  0,\n",
       "  13.333333333333334,\n",
       "  0]}"
      ]
     },
     "execution_count": 109,
     "metadata": {},
     "output_type": "execute_result"
    }
   ],
   "source": [
    "simplex([2, 3, 1], [[1, 1, 1], [2, 1, -1], [3, 2, -1]], [40, 20, 30])"
   ]
  }
 ],
 "metadata": {
  "kernelspec": {
   "display_name": "Python 3",
   "language": "python",
   "name": "python3"
  },
  "language_info": {
   "codemirror_mode": {
    "name": "ipython",
    "version": 3
   },
   "file_extension": ".py",
   "mimetype": "text/x-python",
   "name": "python",
   "nbconvert_exporter": "python",
   "pygments_lexer": "ipython3",
   "version": "3.8.5"
  }
 },
 "nbformat": 4,
 "nbformat_minor": 4
}
