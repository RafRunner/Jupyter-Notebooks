{
 "cells": [
  {
   "cell_type": "code",
   "execution_count": 1,
   "metadata": {},
   "outputs": [],
   "source": [
    "c=[464,513, 654, 867, 352, 416, 690, 791, 995, 682, 388, 685]"
   ]
  },
  {
   "cell_type": "code",
   "execution_count": 2,
   "metadata": {},
   "outputs": [
    {
     "data": {
      "text/plain": [
       "[464, 513, 654, 867, 352, 416, 690, 791, 995, 682, 388, 685]"
      ]
     },
     "execution_count": 2,
     "metadata": {},
     "output_type": "execute_result"
    }
   ],
   "source": [
    "c"
   ]
  },
  {
   "cell_type": "code",
   "execution_count": 3,
   "metadata": {},
   "outputs": [],
   "source": [
    "A = [[1,1,1,1,0,0,0,0,0,0,0,0],\n",
    "     [0,0,0,0,1,1,1,1,0,0,0,0],\n",
    "     [0,0,0,0,0,0,0,0,1,1,1,1],\n",
    "     [1,0,0,0,1,0,0,0,1,0,0,0],\n",
    "     [0,1,0,0,0,1,0,0,0,1,0,0],\n",
    "     [0,0,1,0,0,0,1,0,0,0,1,0],\n",
    "     [0,0,0,1,0,0,0,1,0,0,0,1]]"
   ]
  },
  {
   "cell_type": "code",
   "execution_count": 4,
   "metadata": {},
   "outputs": [
    {
     "data": {
      "text/plain": [
       "[[1, 1, 1, 1, 0, 0, 0, 0, 0, 0, 0, 0],\n",
       " [0, 0, 0, 0, 1, 1, 1, 1, 0, 0, 0, 0],\n",
       " [0, 0, 0, 0, 0, 0, 0, 0, 1, 1, 1, 1],\n",
       " [1, 0, 0, 0, 1, 0, 0, 0, 1, 0, 0, 0],\n",
       " [0, 1, 0, 0, 0, 1, 0, 0, 0, 1, 0, 0],\n",
       " [0, 0, 1, 0, 0, 0, 1, 0, 0, 0, 1, 0],\n",
       " [0, 0, 0, 1, 0, 0, 0, 1, 0, 0, 0, 1]]"
      ]
     },
     "execution_count": 4,
     "metadata": {},
     "output_type": "execute_result"
    }
   ],
   "source": [
    "A"
   ]
  },
  {
   "cell_type": "code",
   "execution_count": 5,
   "metadata": {},
   "outputs": [],
   "source": [
    "b=[75,125,100,80,65,70,85]"
   ]
  },
  {
   "cell_type": "code",
   "execution_count": 6,
   "metadata": {},
   "outputs": [
    {
     "data": {
      "text/plain": [
       "[75, 125, 100, 80, 65, 70, 85]"
      ]
     },
     "execution_count": 6,
     "metadata": {},
     "output_type": "execute_result"
    }
   ],
   "source": [
    "b"
   ]
  },
  {
   "cell_type": "code",
   "execution_count": 7,
   "metadata": {},
   "outputs": [],
   "source": [
    "from scipy.optimize import linprog"
   ]
  },
  {
   "cell_type": "code",
   "execution_count": 8,
   "metadata": {},
   "outputs": [
    {
     "name": "stdout",
     "output_type": "stream",
     "text": [
      "Optimization terminated successfully.\n",
      "         Current function value: 152535.000000\n",
      "         Iterations: 14\n",
      "     con: array([0., 0., 0., 0., 0., 0., 0.])\n",
      "     fun: 152535.0\n",
      " message: 'Optimization terminated successfully.'\n",
      "     nit: 14\n",
      "   slack: array([], dtype=float64)\n",
      "  status: 0\n",
      " success: True\n",
      "       x: array([ 0., 20.,  0., 55., 80., 45.,  0.,  0.,  0.,  0., 70., 30.])\n"
     ]
    }
   ],
   "source": [
    "\"\"\"Modo 1- Imprime resul. minimizacao com lingprog, sem presolver e usando método simplex\n",
    "\"\"\"\n",
    "print(linprog(c,A_eq=A,b_eq=b,options={\"disp\": True, \"presolve\": False}, method = 'simplex'))"
   ]
  },
  {
   "cell_type": "code",
   "execution_count": 9,
   "metadata": {
    "scrolled": true
   },
   "outputs": [
    {
     "name": "stdout",
     "output_type": "stream",
     "text": [
      "Optimization terminated successfully.\n",
      "         Current function value: 152535.000000\n",
      "         Iterations: 14\n",
      "     con: array([0., 0., 0., 0., 0., 0., 0.])\n",
      "     fun: 152535.0\n",
      " message: 'Optimization terminated successfully.'\n",
      "     nit: 14\n",
      "   slack: array([], dtype=float64)\n",
      "  status: 0\n",
      " success: True\n",
      "       x: array([ 0., 20.,  0., 55., 80., 45.,  0.,  0.,  0.,  0., 70., 30.])\n"
     ]
    }
   ],
   "source": [
    "\"\"\"Modo 2- Se precisa enumerar bounds/limites superiores/inferiores das variaveis de decisão\n",
    "\"\"\"\n",
    "x11_bounds = (0, None)\n",
    "x12_bounds = (0, None)\n",
    "x13_bounds = (0, None)\n",
    "x14_bounds = (0, None)\n",
    "x21_bounds = (0, None)\n",
    "x22_bounds = (0, None)\n",
    "x23_bounds = (0, None)\n",
    "x24_bounds = (0, None)\n",
    "x31_bounds = (0, None)\n",
    "x32_bounds = (0, None)\n",
    "x33_bounds = (0, None)\n",
    "x34_bounds = (0, None)\n",
    "print(linprog(c,A_eq=A,b_eq=b,bounds=(x11_bounds,x12_bounds,x13_bounds,x14_bounds,\n",
    "                                      x21_bounds,x22_bounds,x23_bounds,x24_bounds,\n",
    "                                      x31_bounds,x32_bounds,x33_bounds,x34_bounds),\n",
    "             options={\"disp\": True, \"presolve\": False}, method = 'simplex'))"
   ]
  }
 ],
 "metadata": {
  "kernelspec": {
   "display_name": "Python 3",
   "language": "python",
   "name": "python3"
  },
  "language_info": {
   "codemirror_mode": {
    "name": "ipython",
    "version": 3
   },
   "file_extension": ".py",
   "mimetype": "text/x-python",
   "name": "python",
   "nbconvert_exporter": "python",
   "pygments_lexer": "ipython3",
   "version": "3.8.5"
  }
 },
 "nbformat": 4,
 "nbformat_minor": 2
}
