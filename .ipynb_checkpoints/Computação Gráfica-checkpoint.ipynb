{
 "cells": [
  {
   "cell_type": "markdown",
   "metadata": {},
   "source": [
    "# Funções para cálculos de Computação Gráfica\n",
    "\n",
    "### Detalhes dos formatos esperados dos argumentos:"
   ]
  },
  {
   "cell_type": "code",
   "execution_count": 23,
   "metadata": {},
   "outputs": [],
   "source": [
    "#Quartenion linear:       np.array([w, i, j, k])\n",
    "#Quartenion ângulo vetor: (norm, theta, np.array([x, y, z]))"
   ]
  },
  {
   "cell_type": "code",
   "execution_count": 24,
   "metadata": {},
   "outputs": [],
   "source": [
    "import numpy as np\n",
    "import math"
   ]
  },
  {
   "cell_type": "code",
   "execution_count": 25,
   "metadata": {},
   "outputs": [],
   "source": [
    "def para_graus(theta):\n",
    "    return theta / math.pi * 180\n",
    "\n",
    "def para_radiano(theta):\n",
    "    return theta / 180 * math.pi"
   ]
  },
  {
   "cell_type": "code",
   "execution_count": 26,
   "metadata": {},
   "outputs": [],
   "source": [
    "def normaliza(v):\n",
    "    norm = np.linalg.norm(v)\n",
    "    \n",
    "    if norm == 0: \n",
    "        return v\n",
    "    \n",
    "    return v / norm"
   ]
  },
  {
   "cell_type": "code",
   "execution_count": 27,
   "metadata": {},
   "outputs": [],
   "source": [
    "def para_angulo_vetor(quartenion):\n",
    "    norm = np.linalg.norm(quartenion)\n",
    "    normalizado = normaliza(quartenion)\n",
    "    \n",
    "    theta = 2 * math.acos(normalizado[0])\n",
    "    v = [normalizado[i] / math.sin(theta / 2) for i in range(1, 4)]\n",
    "    \n",
    "    q = np.array(v)\n",
    "    \n",
    "    return (norm, para_graus(theta), q)"
   ]
  },
  {
   "cell_type": "code",
   "execution_count": 28,
   "metadata": {},
   "outputs": [],
   "source": [
    "def para_literal(quartenion):\n",
    "    norm, theta, v = quartenion\n",
    "    \n",
    "    if np.linalg.norm(v) != 1:\n",
    "        v = v / np.linalg.norm(v)\n",
    "    \n",
    "    theta = para_radiano(theta)\n",
    "    \n",
    "    w = math.cos(theta / 2)\n",
    "    v = [v[i] * math.sin(theta / 2) for i in range(0, 3)]\n",
    "    \n",
    "    return norm * np.array([w] + v)"
   ]
  },
  {
   "cell_type": "code",
   "execution_count": 29,
   "metadata": {},
   "outputs": [],
   "source": [
    "# recebe um quartenion e te devolve ele garantidamente em formato literal\n",
    "def garante_literal(quartenion):\n",
    "    if type(quartenion) != tuple:\n",
    "        return quartenion\n",
    "    \n",
    "    return para_literal(quartenion)"
   ]
  },
  {
   "cell_type": "code",
   "execution_count": 30,
   "metadata": {},
   "outputs": [],
   "source": [
    "# Soma dois quartenions em qualquer formato e retorna a soma deles no formato de q1\n",
    "def soma(q1, q2):\n",
    "    q1_literal = garante_literal(q1)\n",
    "    q2_literal = garante_literal(q2)\n",
    "        \n",
    "    q3 = np.array([q1_literal[i] + q2_literal[i] for i in range(0, 4)])\n",
    "    \n",
    "    if type(q1) == tuple:\n",
    "        return literal_para_angulo_vetor(q3)\n",
    "    \n",
    "    return q3"
   ]
  },
  {
   "cell_type": "code",
   "execution_count": 31,
   "metadata": {},
   "outputs": [],
   "source": [
    "# Multiplica dois quartenions em qualquer formato e retorna a soma deles no formato de q1\n",
    "def multiplica(q1, q2):\n",
    "    q1_l = garante_literal(q1)\n",
    "    q2_l = garante_literal(q2)\n",
    "    \n",
    "    w1 = q1_l[0]\n",
    "    v1 = q1_l[1:]\n",
    "    \n",
    "    w2 = q2_l[0]\n",
    "    v2 = q2_l[1:]\n",
    "    \n",
    "    w = w1 * w2 - np.dot(v1, v2)\n",
    "    v = w1*v2 + w2*v1 + np.cross(v1, v2)\n",
    "    \n",
    "    q3 = np.insert(v, 0, w)\n",
    "    \n",
    "    if type(q1) == tuple:\n",
    "        return literal_para_angulo_vetor(q3)\n",
    "    \n",
    "    return q3"
   ]
  },
  {
   "cell_type": "code",
   "execution_count": 32,
   "metadata": {},
   "outputs": [],
   "source": [
    "def modulo(quartenion):\n",
    "    q_l = garante_literal(quartenion)\n",
    "    return np.linalg.norm(q_l)"
   ]
  },
  {
   "cell_type": "code",
   "execution_count": 33,
   "metadata": {},
   "outputs": [],
   "source": [
    "# Devolve o quartenion conjugado na forma de entrada\n",
    "def conjugado(quartenion):\n",
    "    q_l = garante_literal(quartenion)\n",
    "    q_ll = np.append(q_l[0], -1 * q_l[1:])\n",
    "    \n",
    "    if type(quartenion) != tuple:\n",
    "        return q_ll\n",
    "    return para_angulo_vetor(q_ll)"
   ]
  },
  {
   "cell_type": "code",
   "execution_count": 34,
   "metadata": {},
   "outputs": [],
   "source": [
    "# Rotaciona um ponto usando um quartenion e devolve o ponto rotacionado\n",
    "def rotaciona(ponto, quartenion):\n",
    "    pq = np.array([0] + ponto)\n",
    "    q_l = garante_literal(quartenion)\n",
    "    q_ll = conjugado(q_l)\n",
    "    pql = multiplica(multiplica(q_l, pq), q_ll)\n",
    "    \n",
    "    return pql[1:]"
   ]
  },
  {
   "cell_type": "code",
   "execution_count": 35,
   "metadata": {},
   "outputs": [
    {
     "data": {
      "text/plain": [
       "(1.000003594993538,\n",
       " 56.595291053521116,\n",
       " array([ 0.59022845, -0.76932207, -0.24448705]))"
      ]
     },
     "execution_count": 35,
     "metadata": {},
     "output_type": "execute_result"
    }
   ],
   "source": [
    "q1 = np.array([3., 1, -2, -2])\n",
    "q2 = np.array([-2., 0, 1, 2])\n",
    "\n",
    "para_literal(para_angulo_vetor(q1))\n",
    "multiplica(q1, q2)\n",
    "modulo(np.array([-2, 0, 1, 2]))\n",
    "para_literal((1, 85, np.array([3., -2, -1])))\n",
    "rotaciona([7, -1, 4], (1, 85, np.array([3, -2, -1])))\n",
    "para_angulo_vetor(np.array([0.8805, 0.2798, -0.3647, -0.1159]))"
   ]
  }
 ],
 "metadata": {
  "kernelspec": {
   "display_name": "Python 3",
   "language": "python",
   "name": "python3"
  },
  "language_info": {
   "codemirror_mode": {
    "name": "ipython",
    "version": 3
   },
   "file_extension": ".py",
   "mimetype": "text/x-python",
   "name": "python",
   "nbconvert_exporter": "python",
   "pygments_lexer": "ipython3",
   "version": "3.8.5"
  }
 },
 "nbformat": 4,
 "nbformat_minor": 4
}
