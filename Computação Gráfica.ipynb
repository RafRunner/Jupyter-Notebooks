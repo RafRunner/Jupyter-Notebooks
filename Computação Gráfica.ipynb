{
 "cells": [
  {
   "cell_type": "markdown",
   "metadata": {},
   "source": [
    "# Funções para cálculos de Computação Gráfica\n",
    "\n",
    "## Quartenions:\n",
    "\n",
    "### Detalhes dos formatos esperados dos argumentos:"
   ]
  },
  {
   "cell_type": "code",
   "execution_count": 29,
   "metadata": {},
   "outputs": [],
   "source": [
    "#Quartenion linear:       np.array([w, i, j, k])\n",
    "#Quartenion ângulo vetor: (norm, theta, np.array([x, y, z]))"
   ]
  },
  {
   "cell_type": "code",
   "execution_count": 30,
   "metadata": {},
   "outputs": [],
   "source": [
    "import numpy as np\n",
    "import math\n",
    "from functools import reduce"
   ]
  },
  {
   "cell_type": "code",
   "execution_count": 31,
   "metadata": {},
   "outputs": [],
   "source": [
    "def para_graus(theta):\n",
    "    return theta / math.pi * 180\n",
    "\n",
    "\n",
    "def para_radiano(theta):\n",
    "    return theta / 180 * math.pi\n",
    "\n",
    "\n",
    "cosd = lambda theta: math.cos(para_radiano(theta))\n",
    "\n",
    "\n",
    "sind = lambda theta: math.sin(para_radiano(theta))\n",
    "\n",
    "\n",
    "tand = lambda theta: math.tan(para_radiano(theta))\n",
    "\n",
    "\n",
    "cotand = lambda theta: 1 / tand(theta)\n",
    "\n",
    "\n",
    "def normaliza(v):\n",
    "    norm = np.linalg.norm(v)\n",
    "    \n",
    "    if norm == 0: \n",
    "        return v\n",
    "    \n",
    "    return v / norm"
   ]
  },
  {
   "cell_type": "code",
   "execution_count": 32,
   "metadata": {},
   "outputs": [],
   "source": [
    "def para_angulo_vetor(quartenion):\n",
    "    norm = np.linalg.norm(quartenion)\n",
    "    normalizado = normaliza(quartenion)\n",
    "    \n",
    "    theta = 2 * math.acos(normalizado[0])\n",
    "    v = [normalizado[i] / math.sin(theta / 2) for i in range(1, 4)]\n",
    "    \n",
    "    q = np.array(v)\n",
    "    \n",
    "    return (norm, para_graus(theta), q)"
   ]
  },
  {
   "cell_type": "code",
   "execution_count": 33,
   "metadata": {},
   "outputs": [],
   "source": [
    "def para_literal(quartenion):\n",
    "    norm, theta, v = quartenion\n",
    "    \n",
    "    if np.linalg.norm(v) != 1:\n",
    "        v = v / np.linalg.norm(v)\n",
    "    \n",
    "    theta = para_radiano(theta)\n",
    "    \n",
    "    w = math.cos(theta / 2)\n",
    "    v = [v[i] * math.sin(theta / 2) for i in range(0, 3)]\n",
    "    \n",
    "    return norm * np.array([w] + v)"
   ]
  },
  {
   "cell_type": "code",
   "execution_count": 34,
   "metadata": {},
   "outputs": [],
   "source": [
    "# recebe um quartenion e te devolve ele garantidamente em formato literal\n",
    "def garante_literal(quartenion):\n",
    "    if type(quartenion) != tuple:\n",
    "        return quartenion\n",
    "    \n",
    "    return para_literal(quartenion)"
   ]
  },
  {
   "cell_type": "code",
   "execution_count": 35,
   "metadata": {},
   "outputs": [],
   "source": [
    "# Soma dois quartenions em qualquer formato e retorna a soma deles no formato de q1\n",
    "def soma(q1, q2):\n",
    "    q1_literal = garante_literal(q1)\n",
    "    q2_literal = garante_literal(q2)\n",
    "        \n",
    "    q3 = np.array([q1_literal[i] + q2_literal[i] for i in range(0, 4)])\n",
    "    \n",
    "    if type(q1) == tuple:\n",
    "        return literal_para_angulo_vetor(q3)\n",
    "    \n",
    "    return q3"
   ]
  },
  {
   "cell_type": "code",
   "execution_count": 36,
   "metadata": {},
   "outputs": [],
   "source": [
    "# Multiplica dois quartenions em qualquer formato e retorna a soma deles no formato de q1\n",
    "def multiplica(q1, q2):\n",
    "    q1_l = garante_literal(q1)\n",
    "    q2_l = garante_literal(q2)\n",
    "    \n",
    "    w1 = q1_l[0]\n",
    "    v1 = q1_l[1:]\n",
    "    \n",
    "    w2 = q2_l[0]\n",
    "    v2 = q2_l[1:]\n",
    "    \n",
    "    w = w1 * w2 - np.dot(v1, v2)\n",
    "    v = w1*v2 + w2*v1 + np.cross(v1, v2)\n",
    "    \n",
    "    q3 = np.insert(v, 0, w)\n",
    "    \n",
    "    if type(q1) == tuple:\n",
    "        return literal_para_angulo_vetor(q3)\n",
    "    \n",
    "    return q3"
   ]
  },
  {
   "cell_type": "code",
   "execution_count": 37,
   "metadata": {},
   "outputs": [],
   "source": [
    "def modulo(quartenion):\n",
    "    q_l = garante_literal(quartenion)\n",
    "    return np.linalg.norm(q_l)"
   ]
  },
  {
   "cell_type": "code",
   "execution_count": 38,
   "metadata": {},
   "outputs": [],
   "source": [
    "# Devolve o quartenion conjugado na forma de entrada\n",
    "def conjugado(quartenion):\n",
    "    q_l = garante_literal(quartenion)\n",
    "    q_ll = np.append(q_l[0], -1 * q_l[1:])\n",
    "    \n",
    "    if type(quartenion) == tuple:\n",
    "        return para_angulo_vetor(q_ll)\n",
    "    \n",
    "    return q_ll"
   ]
  },
  {
   "cell_type": "code",
   "execution_count": 39,
   "metadata": {},
   "outputs": [],
   "source": [
    "# Rotaciona um ponto usando um quartenion e devolve o ponto rotacionado\n",
    "def rotaciona(ponto, quartenion):\n",
    "    pq = np.array([0] + ponto)\n",
    "    q_l = normaliza(garante_literal(quartenion))\n",
    "    q_ll = conjugado(q_l)\n",
    "    pql = multiplica(multiplica(q_l, pq), q_ll)\n",
    "    \n",
    "    return pql[1:]"
   ]
  },
  {
   "cell_type": "code",
   "execution_count": 40,
   "metadata": {},
   "outputs": [
    {
     "data": {
      "text/plain": [
       "(1.000003594993538,\n",
       " 56.595291053521116,\n",
       " array([ 0.59022845, -0.76932207, -0.24448705]))"
      ]
     },
     "execution_count": 40,
     "metadata": {},
     "output_type": "execute_result"
    }
   ],
   "source": [
    "q1 = np.array([3., 1, -2, -2])\n",
    "q2 = np.array([-2., 0, 1, 2])\n",
    "\n",
    "para_literal(para_angulo_vetor(q1))\n",
    "\n",
    "multiplica(q1, q2)\n",
    "\n",
    "modulo(np.array([-2, 0, 1, 2]))\n",
    "\n",
    "para_literal((1, 85, np.array([3., -2, -1])))\n",
    "\n",
    "rotaciona([7, -1, 4], (1, 85, np.array([3, -2, -1])))\n",
    "\n",
    "para_angulo_vetor(np.array([0.8805, 0.2798, -0.3647, -0.1159]))"
   ]
  },
  {
   "cell_type": "markdown",
   "metadata": {},
   "source": [
    "## Transformações básicas e câmera virtual"
   ]
  },
  {
   "cell_type": "code",
   "execution_count": 41,
   "metadata": {},
   "outputs": [],
   "source": [
    "# As funções abaixo retornam matrizes que realizam a dita transformação em um ponto.\n",
    "# A de rotação geral está definida acima e rotaciona diretamente o ponto\n",
    "def translacao(tx, ty, tz):\n",
    "    trans = np.identity(4)\n",
    "    trans[0:, 3] = [tx, ty, tz, 1]\n",
    "    \n",
    "    return trans\n",
    "\n",
    "\n",
    "def escala(sx, sy, sz):\n",
    "    scale = np.identity(4)\n",
    "    scale[0, 0] = sx\n",
    "    scale[1, 1] = sy\n",
    "    scale[2, 2] = sz\n",
    "    \n",
    "    return scale\n",
    "\n",
    "\n",
    "def rotacao_x(theta):\n",
    "    return np.array([[1, 0          , 0           , 0],\n",
    "                     [0, cosd(theta), -sind(theta), 0],\n",
    "                     [0, sind(theta), cosd(theta) , 0],\n",
    "                     [0, 0          , 0           , 1]])\n",
    "\n",
    "\n",
    "def rotacao_y(theta):\n",
    "    return np.array([[cosd(theta) , 0, sind(theta), 0],\n",
    "                     [0           , 1, 0          , 0],\n",
    "                     [-sind(theta), 0, cosd(theta), 0],\n",
    "                     [0           , 0, 0          , 1]])\n",
    "\n",
    "\n",
    "def rotacao_z(theta):\n",
    "    return np.array([[cosd(theta), -sind(theta), 0, 0],\n",
    "                     [sind(theta), cosd(theta) , 0 ,0],\n",
    "                     [0          , 0           , 1, 0],\n",
    "                     [0          , 0           , 0, 1]])\n",
    "\n",
    "\n",
    "# Recebe uma série de transformações e retorna uma equivalente. \n",
    "# Elas devem ser passadas na ordem contraria que serão aplicadas\n",
    "def chain(*transformacoes):\n",
    "    return reduce(np.dot, transformacoes)"
   ]
  },
  {
   "cell_type": "code",
   "execution_count": 42,
   "metadata": {},
   "outputs": [
    {
     "data": {
      "text/plain": [
       "array([[ 2.12132034,  0.        ,  2.12132034,  2.        ],\n",
       "       [ 0.        ,  3.        ,  0.        ,  3.        ],\n",
       "       [-2.12132034,  0.        ,  2.12132034,  4.        ],\n",
       "       [ 0.        ,  0.        ,  0.        ,  1.        ]])"
      ]
     },
     "execution_count": 42,
     "metadata": {},
     "output_type": "execute_result"
    }
   ],
   "source": [
    "chain(translacao(2, 3, 4), rotacao_y(45), escala(3, 3, 3))"
   ]
  },
  {
   "cell_type": "code",
   "execution_count": 93,
   "metadata": {},
   "outputs": [],
   "source": [
    "#Funções usadas para ajudar a transformar o SG em Sistema de Janela\n",
    "def matriz_viewport(x0, y0, x1, y1):\n",
    "    width = x1 - x0\n",
    "    height = y1 - y0\n",
    "    \n",
    "    T = translacao(x0 + width/2, y0 + height/2, 1/2)\n",
    "    S = escala(width/2, height/2, 1/2)\n",
    "    \n",
    "    return np.dot(T, S)\n",
    "\n",
    "\n",
    "def matriz_view(p_camera, UP, foco):\n",
    "    P = np.array(p_camera)\n",
    "    F = np.array(foco)\n",
    "    UP = np.array(UP)\n",
    "    \n",
    "    n = -normaliza(F - P)\n",
    "    u = normaliza(np.cross(UP, n))\n",
    "    v = np.cross(n, u)\n",
    "    \n",
    "    R = np.identity(4)\n",
    "    R[0:3, 0] = u[0:3]\n",
    "    R[0:3, 1] = v[0:3]\n",
    "    R[0:3, 2] = n[0:3]\n",
    "    \n",
    "    T = translacao(p_camera[0], p_camera[1], p_camera[2])\n",
    "    \n",
    "    return np.linalg.inv(np.dot(T, R))\n",
    "\n",
    "\n",
    "# left, right, bottom, top, near, far\n",
    "def matriz_ortografica(l, r, b, t, n, f):\n",
    "    S = escala(2/(r-l), 2/(t-b), -2/(f-n))\n",
    "    T = translacao(-l - (r-l)/2, -b - (t-b)/2, -n - (f-n)/2)\n",
    "    \n",
    "    return np.dot(S, T)\n",
    "\n",
    "\n",
    "def matriz_perspectiva(fov, aspecto, near, far):\n",
    "    return np.array([[cotand(fov/2)/aspecto, 0            , 0                     , 0                     ],\n",
    "                     [0                    , cotand(fov/2), 0                     , 0                     ],\n",
    "                     [0                    , 0            , -(far+near)/(far-near), -2*far*near/(far-near)],\n",
    "                     [0                    , 0            , -1                    , 0                     ]])\n",
    "\n",
    "\n",
    "# Ph    : ponto homogêneo\n",
    "# P3d   : omogêneo -> 3D\n",
    "# Ppixel: coordenada no pixel (no dispositivo)\n",
    "def calcula_pixel(ponto, m_projecao, m_view, m_model, m_viewport):\n",
    "    Ph = chain(m_projecao, m_view, m_model, ponto)\n",
    "    H = Ph[3]\n",
    "    P3d = Ph / H\n",
    "    Ppixel = np.dot(m_viewport, P3d)\n",
    "    \n",
    "    return [Ph, P3d, Ppixel]"
   ]
  },
  {
   "cell_type": "code",
   "execution_count": 44,
   "metadata": {
    "scrolled": false
   },
   "outputs": [
    {
     "name": "stdout",
     "output_type": "stream",
     "text": [
      "[[-7.07106781e-01 -7.85046229e-17  7.07106781e-01 -0.00000000e+00]\n",
      " [-4.08248290e-01  8.16496581e-01 -4.08248290e-01  0.00000000e+00]\n",
      " [-5.77350269e-01 -5.77350269e-01 -5.77350269e-01 -0.00000000e+00]\n",
      " [ 0.00000000e+00  0.00000000e+00  0.00000000e+00  1.00000000e+00]]\n",
      "[[400.    0.    0.  400. ]\n",
      " [  0.  300.    0.  300. ]\n",
      " [  0.    0.    0.5   0.5]\n",
      " [  0.    0.    0.    1. ]]\n",
      "[[ 0.5  0.   0.   0. ]\n",
      " [ 0.   0.5  0.   0. ]\n",
      " [ 0.   0.  -0.5  1.5]\n",
      " [ 0.   0.   0.   1. ]]\n"
     ]
    },
    {
     "data": {
      "text/plain": [
       "array([541.42135624, 483.71173071,   1.6830127 ,   1.        ])"
      ]
     },
     "execution_count": 44,
     "metadata": {},
     "output_type": "execute_result"
    }
   ],
   "source": [
    "m_v = matriz_view([0, 0, 0], [0, 1, 0], [1, 1, 1])\n",
    "m_vp = matriz_viewport(0, 0, 800, 600)\n",
    "m_p = matriz_ortografica(-2, 2, -2, 2, 1, 5)\n",
    "\n",
    "print(m_v)\n",
    "print(m_vp)\n",
    "print(m_p)\n",
    "\n",
    "calcula_pixel([1, 1, 0, 1], m_p, m_v, chain(translacao(1, 1, 1), rotacao_z(90)), m_vp)[2]"
   ]
  },
  {
   "cell_type": "code",
   "execution_count": 45,
   "metadata": {},
   "outputs": [
    {
     "data": {
      "text/plain": [
       "array([[ 1.29903811,  0.        ,  0.        ,  0.        ],\n",
       "       [ 0.        ,  1.73205081,  0.        ,  0.        ],\n",
       "       [ 0.        ,  0.        , -1.5       , -2.5       ],\n",
       "       [ 0.        ,  0.        , -1.        ,  0.        ]])"
      ]
     },
     "execution_count": 45,
     "metadata": {},
     "output_type": "execute_result"
    }
   ],
   "source": [
    "matriz_perspectiva(60, 4/3, 1, 5)"
   ]
  },
  {
   "cell_type": "code",
   "execution_count": 46,
   "metadata": {
    "scrolled": true
   },
   "outputs": [
    {
     "data": {
      "text/plain": [
       "array([270.  , 230.  ,   0.95,   1.  ])"
      ]
     },
     "execution_count": 46,
     "metadata": {},
     "output_type": "execute_result"
    }
   ],
   "source": [
    "np.dot(matriz_viewport(20, 35, 520, 335), np.array([0, 0.3, 0.9, 1]))"
   ]
  },
  {
   "cell_type": "code",
   "execution_count": 47,
   "metadata": {
    "scrolled": true
   },
   "outputs": [
    {
     "data": {
      "text/plain": [
       "array([ 0.5       , -0.9       ,  2.55555556,  1.        ])"
      ]
     },
     "execution_count": 47,
     "metadata": {},
     "output_type": "execute_result"
    }
   ],
   "source": [
    "np.dot(matriz_ortografica(-10, 10, -10, 10, 1, 10), np.array([5, -9, -6, 1]))"
   ]
  },
  {
   "cell_type": "code",
   "execution_count": 48,
   "metadata": {},
   "outputs": [
    {
     "data": {
      "text/plain": [
       "array([  3.66666667,   6.63551114, -15.89105243,   1.        ])"
      ]
     },
     "execution_count": 48,
     "metadata": {},
     "output_type": "execute_result"
    }
   ],
   "source": [
    "np.dot(matriz_view([10, 2, 3], [0, 1, 1], [0, 1, -3]), np.array([-5, 8, -4, 1]))"
   ]
  },
  {
   "cell_type": "code",
   "execution_count": 49,
   "metadata": {},
   "outputs": [
    {
     "data": {
      "text/plain": [
       "array([-0.73739076,  0.20147865,  0.73313011,  1.        ])"
      ]
     },
     "execution_count": 49,
     "metadata": {},
     "output_type": "execute_result"
    }
   ],
   "source": [
    "proj = matriz_ortografica(-5, 15, -5, 10, 1, 20)\n",
    "view = matriz_view([0, 0, 0], [0, 1, 0], [1, 1, 1])\n",
    "\n",
    "chain(proj, view, translacao(-3, 2, -6), rotacao_x(50), np.array([1, 0, 1, 1]))"
   ]
  },
  {
   "cell_type": "code",
   "execution_count": 50,
   "metadata": {},
   "outputs": [
    {
     "data": {
      "text/plain": [
       "array([ 2.59807621, -1.73205081,  4.84924623,  5.        ])"
      ]
     },
     "execution_count": 50,
     "metadata": {},
     "output_type": "execute_result"
    }
   ],
   "source": [
    "np.dot(matriz_perspectiva(60, 4/3, 0.1, 20), np.array([2, -1, -5, 1]))"
   ]
  },
  {
   "cell_type": "code",
   "execution_count": 51,
   "metadata": {
    "scrolled": true
   },
   "outputs": [
    {
     "data": {
      "text/plain": [
       "array([389.13054573, 633.02213208,   0.9234488 ,   1.        ])"
      ]
     },
     "execution_count": 51,
     "metadata": {},
     "output_type": "execute_result"
    }
   ],
   "source": [
    "view = matriz_view([0, 0, 0], [0, 1, 0], [1, 1, 1])\n",
    "proj = matriz_perspectiva(45, 16/9, 0.1, 10)\n",
    "viewport = matriz_viewport(0, 0, 1920, 1080)\n",
    "\n",
    "calcula_pixel([4, 4, 5, 1], proj, view, chain(translacao(-3, 2, -6), rotacao_x(50)), viewport)[2]"
   ]
  },
  {
   "cell_type": "markdown",
   "metadata": {},
   "source": [
    "## Sombreamento e iluminação"
   ]
  },
  {
   "cell_type": "code",
   "execution_count": 96,
   "metadata": {},
   "outputs": [],
   "source": [
    "def calcula_atenuacao(luz, kc, kl, kd, d):\n",
    "    fator_atenuacao = 1 / (kc + kl*d + kd*d*d)\n",
    "    return np.array(luz) * fator_atenuacao\n",
    "\n",
    "\n",
    "def calcula_angulo_spotlight(ponto_luz, direcao_luz, ponto):\n",
    "    v_luz = normaliza(direcao_luz)\n",
    "    l = normaliza(np.array(ponto) - np.array(ponto_luz))\n",
    "\n",
    "    return para_graus(math.acos(np.dot(l, v_luz)))\n",
    "\n",
    "\n",
    "def iluminacao_difusa(luz, ponto_luz, ponto, normal):\n",
    "    normal = normaliza(normal)\n",
    "    l = normaliza(np.array(ponto_luz) - np.array(ponto))\n",
    "    \n",
    "    return np.array(luz) * max(0, np.dot(l, normal))\n",
    "\n",
    "\n",
    "def cor_difusa(luz, ponto_luz, ponto, normal, Kd):\n",
    "    Id = iluminacao_difusa(luz, ponto_luz, ponto, normal)\n",
    "    return Id * Kd\n",
    "\n",
    "\n",
    "def cor_ambiente(luz, Ka):\n",
    "    return np.array(luz) * Ka\n",
    "\n",
    "\n",
    "def iluminacao_phong(luz, ponto_luz, ponto, normal, sh, ponto_camera):\n",
    "    l = normaliza(np.array(ponto_luz) - np.array(ponto))\n",
    "    n = normaliza(normal)\n",
    "    ln = np.dot(l, n)\n",
    "    \n",
    "    if (ln <= 0):\n",
    "        return np.zeros(3)\n",
    "    \n",
    "    v = normaliza(np.array(ponto_camera) - np.array(ponto))\n",
    "    r = 2 * np.dot(l, n) * n - l\n",
    "    Is = np.array(luz) * math.pow(max(0, np.dot(v, r)), sh)\n",
    "    return Is\n",
    "\n",
    "\n",
    "def cor_phong(luz, ponto_luz, ponto, normal, Ks, sh, ponto_camera):\n",
    "    Is = iluminacao_phong(luz, ponto_luz, ponto, normal, sh, ponto_camera)\n",
    "    return Ks * Is\n",
    "\n",
    "\n",
    "def iluminacao_bling_phong(luz, ponto_luz, ponto, normal, sh, ponto_camera):\n",
    "    l = normaliza(np.array(ponto_luz) - np.array(ponto))\n",
    "    n = normaliza(normal)\n",
    "    ln = np.dot(l, n)\n",
    "    \n",
    "    if (ln <= 0):\n",
    "        return np.zeros(3)\n",
    "    \n",
    "    v = normaliza(np.array(ponto_camera) - np.array(ponto))\n",
    "    h = normaliza(l + v)\n",
    "    Is = np.array(luz) * math.pow(max(0, np.dot(h, n)), sh)\n",
    "    return Is"
   ]
  },
  {
   "cell_type": "code",
   "execution_count": 98,
   "metadata": {},
   "outputs": [
    {
     "name": "stdout",
     "output_type": "stream",
     "text": [
      "1- [0.06443299 0.11597938 0.03865979]\n",
      "2- 39.23152048359225\n",
      "3- [0.         0.57735027 0.57735027]\n",
      "4- [0.         0.28867513 0.46188022]\n",
      "5- [0.1  0.1  0.16]\n",
      "6- [0.08888889 0.         0.05555556]\n",
      "7- [0.06222222 0.         0.03888889]\n",
      "8- [0.08888889 0.         0.05555556]\n"
     ]
    }
   ],
   "source": [
    "print(\"1-\", calcula_atenuacao([0.5, 0.9, 0.3], 1, 1.3, 1.04, 2))\n",
    "\n",
    "print(\"2-\", calcula_angulo_spotlight([0, 0, 0], [1, 1, 1], [4, 2, 0]))\n",
    "\n",
    "print(\"3-\", iluminacao_difusa([0, 1, 1], [1, 2, 2], [0, 1, 1], [0, 0, 1]))\n",
    "\n",
    "print(\"4-\", cor_difusa([0, 1, 1], [1, 2, 2], [0, 1, 1], [0, 0, 1], [1, 0.5, 0.8]))\n",
    "\n",
    "print(\"5-\", cor_ambiente([0.1, 0.2, 0.2], [1, 0.5, 0.8]))\n",
    "\n",
    "print(\"6-\", iluminacao_phong([0.8, 0, 0.5], [1, 2, 2], [0, 1, 1], [0, 0, 1], 2, [1, 0, 2]))\n",
    "\n",
    "print(\"7-\", cor_phong([0.8, 0, 0.5], [1, 2, 2], [0, 1, 1], [0, 0, 1], [0.7, 0.7, 0.7], 2, [1, 0, 2]))\n",
    "\n",
    "print(\"8-\", iluminacao_phong([0.8, 0, 0.5], [1, 2, 2], [0, 1, 1], [0, 0, 1], 2, [1, 0, 2]))"
   ]
  },
  {
   "cell_type": "code",
   "execution_count": 70,
   "metadata": {},
   "outputs": [
    {
     "name": "stdout",
     "output_type": "stream",
     "text": [
      "[0.03403428 0.03403428 0.03403428]\n",
      "[0.16673323 0.1945221  0.22231097]\n"
     ]
    },
    {
     "data": {
      "text/plain": [
       "array([0.2007675 , 0.22855638, 0.25634525])"
      ]
     },
     "execution_count": 70,
     "metadata": {},
     "output_type": "execute_result"
    }
   ],
   "source": [
    "ia = calcula_atenuacao([.1, .1, .1], 1, .14, .07, np.linalg.norm([2, -1, -1]))\n",
    "_id = calcula_atenuacao([.6, .7, .8], 1, .14, .07, np.linalg.norm([2, -1, -1]))\n",
    "\n",
    "contrib_ambiente = cor_ambiente(ia, [.6, .6, .6])\n",
    "print(contrib_ambiente)\n",
    "\n",
    "contrib_difusa = cor_difusa(_id, [6, 0, -2], [4, 1, -1], [1, 0, 0], [.6, .6, .6])\n",
    "print(contrib_difusa)\n",
    "\n",
    "contrib_ambiente + contrib_difusa"
   ]
  },
  {
   "cell_type": "code",
   "execution_count": 76,
   "metadata": {},
   "outputs": [
    {
     "data": {
      "text/plain": [
       "array([5.95e+02, 3.80e+02, 2.50e-01, 1.00e+00])"
      ]
     },
     "execution_count": 76,
     "metadata": {},
     "output_type": "execute_result"
    }
   ],
   "source": [
    "mvp = matriz_viewport(10, 40, 610, 440)\n",
    "np.dot(mvp, np.array([.95, .7, -0.5, 1]))"
   ]
  },
  {
   "cell_type": "code",
   "execution_count": 80,
   "metadata": {},
   "outputs": [
    {
     "data": {
      "text/plain": [
       "array([-3.57770876, -7.49477359, -7.74779767,  1.        ])"
      ]
     },
     "execution_count": 80,
     "metadata": {},
     "output_type": "execute_result"
    }
   ],
   "source": [
    "mv = matriz_view([1, 9, -2], [0, 1, 0], [-1, -2, 2])\n",
    "np.dot(mv, np.array([6, -1, -4, 1]))"
   ]
  },
  {
   "cell_type": "code",
   "execution_count": 83,
   "metadata": {
    "scrolled": true
   },
   "outputs": [
    {
     "data": {
      "text/plain": [
       "array([0.4256459, 0.4256459, 0.4256459])"
      ]
     },
     "execution_count": 83,
     "metadata": {},
     "output_type": "execute_result"
    }
   ],
   "source": [
    "np.array([.5, .5, .5]) * iluminacao_bling_phong([.9, .9, .9], [5, 4, -1], [-1, 2, 5], [0, 1, 0], 3, [-3, 4, 7])"
   ]
  },
  {
   "cell_type": "code",
   "execution_count": 94,
   "metadata": {},
   "outputs": [
    {
     "data": {
      "text/plain": [
       "array([1.        , 0.33333333, 1.62626263, 1.        ])"
      ]
     },
     "execution_count": 94,
     "metadata": {},
     "output_type": "execute_result"
    }
   ],
   "source": [
    "mo = matriz_ortografica(-3, 3, -3, 3, .1, 10)\n",
    "np.dot(mo, np.array([3, 1, -3, 1]))"
   ]
  },
  {
   "cell_type": "code",
   "execution_count": 90,
   "metadata": {},
   "outputs": [
    {
     "data": {
      "text/plain": [
       "array([1.15470054, 0.57735027, 0.95286195, 1.        ])"
      ]
     },
     "execution_count": 90,
     "metadata": {},
     "output_type": "execute_result"
    }
   ],
   "source": [
    "mp = matriz_perspectiva(60, 1.5, .1, 10)\n",
    "ponto_parcial = np.dot(mp, np.array([3, 1, -3, 1]))\n",
    "ponto_parcial / ponto_parcial[3]"
   ]
  },
  {
   "cell_type": "code",
   "execution_count": 95,
   "metadata": {},
   "outputs": [
    {
     "data": {
      "text/plain": [
       "array([0.35866942, 0.35866942, 0.35866942])"
      ]
     },
     "execution_count": 95,
     "metadata": {},
     "output_type": "execute_result"
    }
   ],
   "source": [
    "np.array([.5, .5, .5]) * iluminacao_phong([.9, .9, .9], [5, 4, -1], [-1, 2, 5], [0, 1, 0], 3, [-3, 4, 7])"
   ]
  }
 ],
 "metadata": {
  "kernelspec": {
   "display_name": "Python 3",
   "language": "python",
   "name": "python3"
  },
  "language_info": {
   "codemirror_mode": {
    "name": "ipython",
    "version": 3
   },
   "file_extension": ".py",
   "mimetype": "text/x-python",
   "name": "python",
   "nbconvert_exporter": "python",
   "pygments_lexer": "ipython3",
   "version": "3.8.5"
  }
 },
 "nbformat": 4,
 "nbformat_minor": 4
}
