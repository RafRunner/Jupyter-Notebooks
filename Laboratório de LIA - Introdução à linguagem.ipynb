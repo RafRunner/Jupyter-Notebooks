{
 "cells": [
  {
   "cell_type": "markdown",
   "metadata": {},
   "source": [
    "# Rafael Nunes Santana - 201800215\n",
    "\n",
    "### Pesquisa Operacional - Laboratório 1\n",
    "\n",
    "Primeiramente, vamos improtar o numpy e criar uma função de utilidade:"
   ]
  },
  {
   "cell_type": "code",
   "execution_count": 44,
   "metadata": {},
   "outputs": [],
   "source": [
    "import numpy as np\n",
    "\n",
    "def imprime_vetor_e_shape(vetor): \n",
    "    print(\"vetor:\\n\", vetor)\n",
    "    print(\"shape:\", vetor.shape)"
   ]
  },
  {
   "cell_type": "markdown",
   "metadata": {},
   "source": [
    "E então criamos um vetor linha:"
   ]
  },
  {
   "cell_type": "code",
   "execution_count": 45,
   "metadata": {},
   "outputs": [
    {
     "name": "stdout",
     "output_type": "stream",
     "text": [
      "vetor:\n",
      " [[3 4 5]]\n",
      "shape: (1, 3)\n"
     ]
    }
   ],
   "source": [
    "vetor_y = np.array([[3, 4, 5]])\n",
    "imprime_vetor_e_shape(vetor_y)"
   ]
  },
  {
   "cell_type": "markdown",
   "metadata": {},
   "source": [
    "E um coluna:"
   ]
  },
  {
   "cell_type": "code",
   "execution_count": 46,
   "metadata": {},
   "outputs": [
    {
     "name": "stdout",
     "output_type": "stream",
     "text": [
      "vetor:\n",
      " [[1]\n",
      " [2]\n",
      " [3]]\n",
      "shape: (3, 1)\n"
     ]
    }
   ],
   "source": [
    "vetor_x = np.array([[1], [2], [3]])\n",
    "imprime_vetor_e_shape(vetor_x)"
   ]
  },
  {
   "cell_type": "markdown",
   "metadata": {},
   "source": [
    "Criando uma matriz:"
   ]
  },
  {
   "cell_type": "code",
   "execution_count": 47,
   "metadata": {
    "scrolled": true
   },
   "outputs": [
    {
     "name": "stdout",
     "output_type": "stream",
     "text": [
      "vetor:\n",
      " [[10  9  8]\n",
      " [ 7  6  5]\n",
      " [ 4  3  2]]\n",
      "shape: (3, 3)\n"
     ]
    }
   ],
   "source": [
    "matriz = np.array([[10, 9, 8],\n",
    "                   [7, 6, 5],\n",
    "                   [4, 3, 2]])\n",
    "imprime_vetor_e_shape(matriz)"
   ]
  },
  {
   "cell_type": "markdown",
   "metadata": {},
   "source": [
    "matriz de zeors:"
   ]
  },
  {
   "cell_type": "code",
   "execution_count": 48,
   "metadata": {
    "scrolled": true
   },
   "outputs": [
    {
     "name": "stdout",
     "output_type": "stream",
     "text": [
      "vetor:\n",
      " [[0 0 0 0]\n",
      " [0 0 0 0]\n",
      " [0 0 0 0]]\n",
      "shape: (3, 4)\n"
     ]
    }
   ],
   "source": [
    "matriz_zeros = np.zeros((3, 4), dtype=int)\n",
    "imprime_vetor_e_shape(matriz_zeros)"
   ]
  },
  {
   "cell_type": "markdown",
   "metadata": {},
   "source": [
    "Criando um vetor com uma série aritimética:"
   ]
  },
  {
   "cell_type": "code",
   "execution_count": 49,
   "metadata": {},
   "outputs": [
    {
     "name": "stdout",
     "output_type": "stream",
     "text": [
      "vetor:\n",
      " [ 0  5 10 15 20 25 30 35 40 45 50 55 60 65 70 75 80 85 90 95]\n",
      "shape: (20,)\n"
     ]
    }
   ],
   "source": [
    "serie = np.arange(0, 100 ,5)\n",
    "imprime_vetor_e_shape(serie)"
   ]
  },
  {
   "cell_type": "markdown",
   "metadata": {},
   "source": [
    "Operações com vetores/matrizes:"
   ]
  },
  {
   "cell_type": "code",
   "execution_count": 50,
   "metadata": {},
   "outputs": [
    {
     "name": "stdout",
     "output_type": "stream",
     "text": [
      "[[40 36 32]\n",
      " [28 24 20]\n",
      " [16 12  8]]\n",
      "[ 0.  1.  2.  3.  4.  5.  6.  7.  8.  9. 10. 11. 12. 13. 14. 15. 16. 17.\n",
      " 18. 19.]\n"
     ]
    }
   ],
   "source": [
    "print(matriz * 4)\n",
    "print(serie / 5)"
   ]
  },
  {
   "cell_type": "markdown",
   "metadata": {},
   "source": [
    "Multiplicação de matrizes:"
   ]
  },
  {
   "cell_type": "code",
   "execution_count": 51,
   "metadata": {},
   "outputs": [
    {
     "name": "stdout",
     "output_type": "stream",
     "text": [
      "vetor:\n",
      " [[ 6 12]\n",
      " [ 7  4]]\n",
      "shape: (2, 2)\n"
     ]
    }
   ],
   "source": [
    "A = np.array([[2, 3, 1],\n",
    "              [-1, 0, 2]])\n",
    "\n",
    "B = np.array([[1, -2],\n",
    "              [0, 5],\n",
    "              [4, 1]])\n",
    "\n",
    "imprime_vetor_e_shape(A.dot(B))"
   ]
  },
  {
   "cell_type": "markdown",
   "metadata": {},
   "source": [
    "Elevando uma matriz ao quadrado:"
   ]
  },
  {
   "cell_type": "code",
   "execution_count": 52,
   "metadata": {},
   "outputs": [
    {
     "name": "stdout",
     "output_type": "stream",
     "text": [
      "vetor:\n",
      " [[4 9 1]\n",
      " [1 0 4]]\n",
      "shape: (2, 3)\n"
     ]
    }
   ],
   "source": [
    "# primeira forma:\n",
    "imprime_vetor_e_shape(A ** 2)\n",
    "\n",
    "# segunda forma (só funciona para matrizes quadradas então não vamos executar):\n",
    "# imprime_vetor_e_shape(A.dot(A))"
   ]
  },
  {
   "cell_type": "markdown",
   "metadata": {},
   "source": [
    "Produto interno (produto escalar):"
   ]
  },
  {
   "cell_type": "code",
   "execution_count": 55,
   "metadata": {},
   "outputs": [
    {
     "name": "stdout",
     "output_type": "stream",
     "text": [
      "vetor:\n",
      " 6\n",
      "shape: ()\n",
      "\n",
      "vetor:\n",
      " 12\n",
      "shape: ()\n"
     ]
    }
   ],
   "source": [
    "imprime_vetor_e_shape(vetor_x.sum())\n",
    "print()\n",
    "imprime_vetor_e_shape(vetor_y.sum())"
   ]
  },
  {
   "cell_type": "markdown",
   "metadata": {},
   "source": [
    "Produto externo (produto vetorial):"
   ]
  },
  {
   "cell_type": "code",
   "execution_count": 59,
   "metadata": {},
   "outputs": [
    {
     "name": "stdout",
     "output_type": "stream",
     "text": [
      "vetor:\n",
      " [[ 3  4  5]\n",
      " [ 6  8 10]\n",
      " [ 9 12 15]]\n",
      "shape: (3, 3)\n",
      "\n",
      "vetor:\n",
      " [[26]]\n",
      "shape: (1, 1)\n",
      "\n",
      "vetor:\n",
      " [[ 3  4  5]\n",
      " [ 6  8 10]\n",
      " [ 9 12 15]]\n",
      "shape: (3, 3)\n",
      "\n",
      "vetor:\n",
      " [[ 3  4  5]\n",
      " [ 6  8 10]\n",
      " [ 9 12 15]]\n",
      "shape: (3, 3)\n"
     ]
    }
   ],
   "source": [
    "imprime_vetor_e_shape(vetor_x.dot(vetor_y))\n",
    "print()\n",
    "imprime_vetor_e_shape(vetor_y.dot(vetor_x))\n",
    "print()\n",
    "# ou\n",
    "imprime_vetor_e_shape(vetor_x * vetor_y)\n",
    "print()\n",
    "imprime_vetor_e_shape(vetor_y * vetor_x)"
   ]
  }
 ],
 "metadata": {
  "kernelspec": {
   "display_name": "Python 3",
   "language": "python",
   "name": "python3"
  },
  "language_info": {
   "codemirror_mode": {
    "name": "ipython",
    "version": 3
   },
   "file_extension": ".py",
   "mimetype": "text/x-python",
   "name": "python",
   "nbconvert_exporter": "python",
   "pygments_lexer": "ipython3",
   "version": "3.8.5"
  }
 },
 "nbformat": 4,
 "nbformat_minor": 4
}
